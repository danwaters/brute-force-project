{
 "cells": [
  {
   "cell_type": "markdown",
   "metadata": {
    "id": "_55E3-GVHuGx"
   },
   "source": [
    "# Get the data"
   ]
  },
  {
   "cell_type": "code",
   "execution_count": null,
   "metadata": {
    "colab": {
     "base_uri": "https://localhost:8080/"
    },
    "executionInfo": {
     "elapsed": 9468,
     "status": "ok",
     "timestamp": 1635875037988,
     "user": {
      "displayName": "Dan Waters",
      "photoUrl": "https://lh3.googleusercontent.com/a-/AOh14Gg8oyL8Sarv6twUg3wi_p2Qi8dxMbQbjA5YSSm5=s64",
      "userId": "14461703177943287613"
     },
     "user_tz": 300
    },
    "id": "TNqqoz0-HFVC",
    "outputId": "5075a4be-d466-4044-8e4b-db8c3ee346b8"
   },
   "outputs": [
    {
     "name": "stdout",
     "output_type": "stream",
     "text": [
      "Downloading...\n",
      "From: https://drive.google.com/uc?id=1HVSazFk8m553VWPjFnZZ-YfJA_KecPea\n",
      "To: /content/translated_data_updated.zip\n",
      "100% 122M/122M [00:01<00:00, 78.6MB/s]\n",
      "Archive:  translated_data_updated.zip\n",
      "   creating: data_translated/\n",
      "  inflating: data_translated/coupon_visit_train.csv  \n",
      "  inflating: data_translated/coupon_list_train.csv  \n",
      "  inflating: data_translated/prefecture_locations.csv  \n",
      "  inflating: data_translated/coupon_area_test.csv  \n",
      "  inflating: data_translated/coupon_detail_train.csv  \n",
      "  inflating: data_translated/coupon_area_train.csv  \n",
      "  inflating: data_translated/user_list.csv  \n",
      "  inflating: data_translated/coupon_list_test.csv  \n"
     ]
    }
   ],
   "source": [
    "!gdown --id 1HVSazFk8m553VWPjFnZZ-YfJA_KecPea\n",
    "!unzip translated_data_updated.zip"
   ]
  },
  {
   "cell_type": "code",
   "execution_count": null,
   "metadata": {
    "id": "6zhXcytVJq1w"
   },
   "outputs": [],
   "source": [
    "# imports\n",
    "import pandas as pd\n",
    "import seaborn as sns\n",
    "import numpy as np\n",
    "import matplotlib.pyplot as plt\n",
    "\n",
    "sns.set_theme(context='notebook', style='darkgrid')"
   ]
  },
  {
   "cell_type": "code",
   "execution_count": null,
   "metadata": {
    "id": "66-dDHVzJ5NY"
   },
   "outputs": [],
   "source": [
    "# Important Note:\n",
    "# Visits = browsing history in the training period. No test set available. \n",
    "# Purchases = purchase history in the training period. No test set available.\n",
    "\n",
    "df_users        = pd.read_csv('data_translated/user_list.csv')\n",
    "df_c_list_train = pd.read_csv('data_translated/coupon_list_train.csv')\n",
    "df_c_list_test  = pd.read_csv('data_translated/coupon_list_test.csv')\n",
    "df_area_train   = pd.read_csv('data_translated/coupon_area_train.csv')\n",
    "df_area_test    = pd.read_csv('data_translated/coupon_area_test.csv')\n",
    "df_visit_train  = pd.read_csv('data_translated/coupon_visit_train.csv')\n",
    "df_purch_train  = pd.read_csv('data_translated/coupon_detail_train.csv')\n",
    "df_locations    = pd.read_csv('data_translated/prefecture_locations.csv')"
   ]
  },
  {
   "cell_type": "markdown",
   "metadata": {
    "id": "yGhtMkAtJEQg"
   },
   "source": [
    "## Feature Engineering\n",
    "#### User List"
   ]
  },
  {
   "cell_type": "code",
   "execution_count": null,
   "metadata": {
    "id": "35Wuqhdu4sgM"
   },
   "outputs": [],
   "source": [
    "# rename SEX_ID column, change to categorical value (0 Male, 1 Female)\n",
    "df_users['SEX'] = df_users['SEX_ID'].replace('f', 1)\n",
    "df_users['SEX'] = df_users['SEX'].replace('m', 0)"
   ]
  },
  {
   "cell_type": "code",
   "execution_count": null,
   "metadata": {
    "id": "Ekefadt28NG3"
   },
   "outputs": [],
   "source": [
    "# create a categorical variable for age group:\n",
    "# 14-21, 22-35, 36-49, 50-65, 66-75, 76-90\n",
    "def age_cat(age):\n",
    "  if age <= 21:\n",
    "    return 0\n",
    "  elif age <= 35:\n",
    "    return 1\n",
    "  elif age <= 49:\n",
    "    return 2\n",
    "  elif age <= 65:\n",
    "    return 3\n",
    "  elif age <= 75:\n",
    "    return 4\n",
    "  elif age <= 90:\n",
    "    return 5\n",
    "  else:\n",
    "    return 6\n",
    "\n",
    "lbl_age_ranges = ['14-21', '22-35', '36-49', '50-65', '66-75', '76-90'] \n",
    "\n",
    "df_users['AGE_GROUP'] = [age_cat(a) for a in df_users['AGE']]"
   ]
  },
  {
   "cell_type": "code",
   "execution_count": null,
   "metadata": {
    "colab": {
     "base_uri": "https://localhost:8080/",
     "height": 203
    },
    "executionInfo": {
     "elapsed": 284,
     "status": "ok",
     "timestamp": 1635875064803,
     "user": {
      "displayName": "Dan Waters",
      "photoUrl": "https://lh3.googleusercontent.com/a-/AOh14Gg8oyL8Sarv6twUg3wi_p2Qi8dxMbQbjA5YSSm5=s64",
      "userId": "14461703177943287613"
     },
     "user_tz": 300
    },
    "id": "R0aPx2sp9R_j",
    "outputId": "75f7d159-58e4-4ae0-bf46-934d71a7455b"
   },
   "outputs": [
    {
     "data": {
      "text/html": [
       "<div>\n",
       "<style scoped>\n",
       "    .dataframe tbody tr th:only-of-type {\n",
       "        vertical-align: middle;\n",
       "    }\n",
       "\n",
       "    .dataframe tbody tr th {\n",
       "        vertical-align: top;\n",
       "    }\n",
       "\n",
       "    .dataframe thead th {\n",
       "        text-align: right;\n",
       "    }\n",
       "</style>\n",
       "<table border=\"1\" class=\"dataframe\">\n",
       "  <thead>\n",
       "    <tr style=\"text-align: right;\">\n",
       "      <th></th>\n",
       "      <th>Unnamed: 0</th>\n",
       "      <th>REG_DATE</th>\n",
       "      <th>SEX_ID</th>\n",
       "      <th>AGE</th>\n",
       "      <th>WITHDRAW_DATE</th>\n",
       "      <th>USER_ID_hash</th>\n",
       "      <th>PREF_NAME_EN</th>\n",
       "      <th>SEX</th>\n",
       "      <th>AGE_GROUP</th>\n",
       "    </tr>\n",
       "  </thead>\n",
       "  <tbody>\n",
       "    <tr>\n",
       "      <th>0</th>\n",
       "      <td>0</td>\n",
       "      <td>2012-03-28 14:14:18</td>\n",
       "      <td>f</td>\n",
       "      <td>25</td>\n",
       "      <td>NaN</td>\n",
       "      <td>d9dca3cb44bab12ba313eaa681f663eb</td>\n",
       "      <td>NaN</td>\n",
       "      <td>1</td>\n",
       "      <td>1</td>\n",
       "    </tr>\n",
       "    <tr>\n",
       "      <th>1</th>\n",
       "      <td>1</td>\n",
       "      <td>2011-05-18 00:41:48</td>\n",
       "      <td>f</td>\n",
       "      <td>34</td>\n",
       "      <td>NaN</td>\n",
       "      <td>560574a339f1b25e57b0221e486907ed</td>\n",
       "      <td>Tokyo</td>\n",
       "      <td>1</td>\n",
       "      <td>1</td>\n",
       "    </tr>\n",
       "    <tr>\n",
       "      <th>2</th>\n",
       "      <td>2</td>\n",
       "      <td>2011-06-13 16:36:58</td>\n",
       "      <td>m</td>\n",
       "      <td>41</td>\n",
       "      <td>NaN</td>\n",
       "      <td>e66ae91b978b3229f8fd858c80615b73</td>\n",
       "      <td>Aichi Prefecture</td>\n",
       "      <td>0</td>\n",
       "      <td>2</td>\n",
       "    </tr>\n",
       "    <tr>\n",
       "      <th>3</th>\n",
       "      <td>3</td>\n",
       "      <td>2012-02-08 12:56:15</td>\n",
       "      <td>m</td>\n",
       "      <td>25</td>\n",
       "      <td>NaN</td>\n",
       "      <td>43fc18f32eafb05713ec02935e2c2825</td>\n",
       "      <td>NaN</td>\n",
       "      <td>0</td>\n",
       "      <td>1</td>\n",
       "    </tr>\n",
       "    <tr>\n",
       "      <th>4</th>\n",
       "      <td>4</td>\n",
       "      <td>2011-05-22 23:43:56</td>\n",
       "      <td>m</td>\n",
       "      <td>62</td>\n",
       "      <td>NaN</td>\n",
       "      <td>dc6df8aa860f8db0d710ce9d4839840f</td>\n",
       "      <td>Kanagawa Prefecture</td>\n",
       "      <td>0</td>\n",
       "      <td>3</td>\n",
       "    </tr>\n",
       "  </tbody>\n",
       "</table>\n",
       "</div>"
      ],
      "text/plain": [
       "   Unnamed: 0             REG_DATE SEX_ID  ...         PREF_NAME_EN SEX AGE_GROUP\n",
       "0           0  2012-03-28 14:14:18      f  ...                  NaN   1         1\n",
       "1           1  2011-05-18 00:41:48      f  ...                Tokyo   1         1\n",
       "2           2  2011-06-13 16:36:58      m  ...     Aichi Prefecture   0         2\n",
       "3           3  2012-02-08 12:56:15      m  ...                  NaN   0         1\n",
       "4           4  2011-05-22 23:43:56      m  ...  Kanagawa Prefecture   0         3\n",
       "\n",
       "[5 rows x 9 columns]"
      ]
     },
     "execution_count": 7,
     "metadata": {},
     "output_type": "execute_result"
    }
   ],
   "source": [
    "df_users.head()"
   ]
  },
  {
   "cell_type": "code",
   "execution_count": null,
   "metadata": {
    "colab": {
     "base_uri": "https://localhost:8080/",
     "height": 408
    },
    "executionInfo": {
     "elapsed": 259,
     "status": "ok",
     "timestamp": 1635875073001,
     "user": {
      "displayName": "Dan Waters",
      "photoUrl": "https://lh3.googleusercontent.com/a-/AOh14Gg8oyL8Sarv6twUg3wi_p2Qi8dxMbQbjA5YSSm5=s64",
      "userId": "14461703177943287613"
     },
     "user_tz": 300
    },
    "id": "WU6SoGki6o8l",
    "outputId": "ae9bbbb2-dfbb-48b3-bb13-4ce4ac6eb627"
   },
   "outputs": [
    {
     "data": {
      "text/html": [
       "<div>\n",
       "<style scoped>\n",
       "    .dataframe tbody tr th:only-of-type {\n",
       "        vertical-align: middle;\n",
       "    }\n",
       "\n",
       "    .dataframe tbody tr th {\n",
       "        vertical-align: top;\n",
       "    }\n",
       "\n",
       "    .dataframe thead th {\n",
       "        text-align: right;\n",
       "    }\n",
       "</style>\n",
       "<table border=\"1\" class=\"dataframe\">\n",
       "  <thead>\n",
       "    <tr style=\"text-align: right;\">\n",
       "      <th></th>\n",
       "      <th>Unnamed: 0</th>\n",
       "      <th>ITEM_COUNT</th>\n",
       "      <th>I_DATE</th>\n",
       "      <th>PURCHASEID_hash</th>\n",
       "      <th>USER_ID_hash</th>\n",
       "      <th>COUPON_ID_hash</th>\n",
       "      <th>SMALL_AREA_NAME_EN</th>\n",
       "    </tr>\n",
       "  </thead>\n",
       "  <tbody>\n",
       "    <tr>\n",
       "      <th>0</th>\n",
       "      <td>0</td>\n",
       "      <td>1</td>\n",
       "      <td>2012-03-28 15:06:06</td>\n",
       "      <td>c820a8882374a4e472f0984a8825893f</td>\n",
       "      <td>d9dca3cb44bab12ba313eaa681f663eb</td>\n",
       "      <td>34c48f84026e08355dc3bd19b427f09a</td>\n",
       "      <td>Hyogo</td>\n",
       "    </tr>\n",
       "    <tr>\n",
       "      <th>1</th>\n",
       "      <td>1</td>\n",
       "      <td>1</td>\n",
       "      <td>2011-07-04 23:52:54</td>\n",
       "      <td>1b4eb2435421ede98c8931c42e8220ec</td>\n",
       "      <td>560574a339f1b25e57b0221e486907ed</td>\n",
       "      <td>767673b7a777854a92b73b0934ddfae7</td>\n",
       "      <td>Ginza, Shinbashi, Tokyo, Ueno</td>\n",
       "    </tr>\n",
       "    <tr>\n",
       "      <th>2</th>\n",
       "      <td>2</td>\n",
       "      <td>1</td>\n",
       "      <td>2011-07-16 00:52:49</td>\n",
       "      <td>36b5f9ba46c44b65587d0b16f2e4c77f</td>\n",
       "      <td>560574a339f1b25e57b0221e486907ed</td>\n",
       "      <td>4f3b5b91d9831192557c056022fdc1f2</td>\n",
       "      <td>Ebisu / Meguro / Shinagawa</td>\n",
       "    </tr>\n",
       "    <tr>\n",
       "      <th>3</th>\n",
       "      <td>3</td>\n",
       "      <td>1</td>\n",
       "      <td>2011-07-16 00:54:53</td>\n",
       "      <td>2f30f46937cc9004774e576914b2aa1a</td>\n",
       "      <td>560574a339f1b25e57b0221e486907ed</td>\n",
       "      <td>4f3b5b91d9831192557c056022fdc1f2</td>\n",
       "      <td>Ebisu / Meguro / Shinagawa</td>\n",
       "    </tr>\n",
       "    <tr>\n",
       "      <th>4</th>\n",
       "      <td>4</td>\n",
       "      <td>1</td>\n",
       "      <td>2011-07-16 00:55:52</td>\n",
       "      <td>4d000c64a55ac573d0ae1a8f03677f50</td>\n",
       "      <td>560574a339f1b25e57b0221e486907ed</td>\n",
       "      <td>4f3b5b91d9831192557c056022fdc1f2</td>\n",
       "      <td>Ebisu / Meguro / Shinagawa</td>\n",
       "    </tr>\n",
       "  </tbody>\n",
       "</table>\n",
       "</div>"
      ],
      "text/plain": [
       "   Unnamed: 0  ...             SMALL_AREA_NAME_EN\n",
       "0           0  ...                          Hyogo\n",
       "1           1  ...  Ginza, Shinbashi, Tokyo, Ueno\n",
       "2           2  ...     Ebisu / Meguro / Shinagawa\n",
       "3           3  ...     Ebisu / Meguro / Shinagawa\n",
       "4           4  ...     Ebisu / Meguro / Shinagawa\n",
       "\n",
       "[5 rows x 7 columns]"
      ]
     },
     "execution_count": 8,
     "metadata": {},
     "output_type": "execute_result"
    }
   ],
   "source": [
    "df_purch_train.head(5)"
   ]
  },
  {
   "cell_type": "code",
   "execution_count": null,
   "metadata": {
    "colab": {
     "base_uri": "https://localhost:8080/",
     "height": 285
    },
    "executionInfo": {
     "elapsed": 904,
     "status": "ok",
     "timestamp": 1635876403988,
     "user": {
      "displayName": "Dan Waters",
      "photoUrl": "https://lh3.googleusercontent.com/a-/AOh14Gg8oyL8Sarv6twUg3wi_p2Qi8dxMbQbjA5YSSm5=s64",
      "userId": "14461703177943287613"
     },
     "user_tz": 300
    },
    "id": "eyXiILyx78Tl",
    "outputId": "948d4269-79b1-4d49-a2f3-7fb98ec8a2e8"
   },
   "outputs": [
    {
     "data": {
      "text/plain": [
       "<matplotlib.axes._subplots.AxesSubplot at 0x7ff83c77c650>"
      ]
     },
     "execution_count": 47,
     "metadata": {},
     "output_type": "execute_result"
    },
    {
     "data": {
      "image/png": "[encoded data removed]",
      "text/plain": [
       "<Figure size 432x288 with 1 Axes>"
      ]
     },
     "metadata": {},
     "output_type": "display_data"
    }
   ],
   "source": [
    "p = df_purch_train.drop(columns=['Unnamed: 0', 'I_DATE', 'PURCHASEID_hash', 'COUPON_ID_hash', 'SMALL_AREA_NAME_EN'])\n",
    "p = p.sort_values(by=['ITEM_COUNT'], ascending=False)\n",
    "\n",
    "l = p['ITEM_COUNT'].to_numpy()\n",
    "sns.histplot(l, bins=[1,2,3,4,5,10])"
   ]
  },
  {
   "cell_type": "code",
   "execution_count": null,
   "metadata": {
    "id": "JusChvEgXSew"
   },
   "outputs": [],
   "source": [
    "# create random baseline \n",
    "# this code is unrelated to the EDA, just useful to have\n",
    "user_list = df_users['USER_ID_hash']\n",
    "\n",
    "rows = []\n",
    "for u in user_list:\n",
    "  coupon_list = df_c_list_test.sample(n=10, replace=False)['COUPON_ID_hash']\n",
    "  coupon_list_str = ' '.join(coupon_list)\n",
    "  \n",
    "  row = {'USER_ID_hash': u, 'PURCHASED_COUPONS': coupon_list_str}\n",
    "  rows.append(row)\n",
    "  \n",
    "df_pred = pd.DataFrame.from_dict(rows)\n",
    "df_pred.to_csv('sample_submission.csv', header=True, index=False)"
   ]
  },
  {
   "cell_type": "code",
   "execution_count": null,
   "metadata": {
    "colab": {
     "base_uri": "https://localhost:8080/"
    },
    "executionInfo": {
     "elapsed": 309,
     "status": "ok",
     "timestamp": 1635875281454,
     "user": {
      "displayName": "Dan Waters",
      "photoUrl": "https://lh3.googleusercontent.com/a-/AOh14Gg8oyL8Sarv6twUg3wi_p2Qi8dxMbQbjA5YSSm5=s64",
      "userId": "14461703177943287613"
     },
     "user_tz": 300
    },
    "id": "Ig6mx-PDf9rQ",
    "outputId": "5f2838a2-85a2-4cd4-bf61-5a19799ff7c1"
   },
   "outputs": [
    {
     "data": {
      "text/plain": [
       "0    d9dca3cb44bab12ba313eaa681f663eb\n",
       "1    560574a339f1b25e57b0221e486907ed\n",
       "2    e66ae91b978b3229f8fd858c80615b73\n",
       "3    43fc18f32eafb05713ec02935e2c2825\n",
       "4    dc6df8aa860f8db0d710ce9d4839840f\n",
       "Name: USER_ID_hash, dtype: object"
      ]
     },
     "execution_count": 13,
     "metadata": {},
     "output_type": "execute_result"
    }
   ],
   "source": [
    "user_list.head()"
   ]
  },
  {
   "cell_type": "code",
   "execution_count": null,
   "metadata": {
    "colab": {
     "base_uri": "https://localhost:8080/",
     "height": 80
    },
    "executionInfo": {
     "elapsed": 275,
     "status": "ok",
     "timestamp": 1635875284909,
     "user": {
      "displayName": "Dan Waters",
      "photoUrl": "https://lh3.googleusercontent.com/a-/AOh14Gg8oyL8Sarv6twUg3wi_p2Qi8dxMbQbjA5YSSm5=s64",
      "userId": "14461703177943287613"
     },
     "user_tz": 300
    },
    "id": "YjmL0nfOqqux",
    "outputId": "cfa56a8f-6731-4685-fa92-4fdabd799740"
   },
   "outputs": [
    {
     "data": {
      "text/html": [
       "<div>\n",
       "<style scoped>\n",
       "    .dataframe tbody tr th:only-of-type {\n",
       "        vertical-align: middle;\n",
       "    }\n",
       "\n",
       "    .dataframe tbody tr th {\n",
       "        vertical-align: top;\n",
       "    }\n",
       "\n",
       "    .dataframe thead th {\n",
       "        text-align: right;\n",
       "    }\n",
       "</style>\n",
       "<table border=\"1\" class=\"dataframe\">\n",
       "  <thead>\n",
       "    <tr style=\"text-align: right;\">\n",
       "      <th></th>\n",
       "      <th>Unnamed: 0</th>\n",
       "      <th>REG_DATE</th>\n",
       "      <th>SEX_ID</th>\n",
       "      <th>AGE</th>\n",
       "      <th>WITHDRAW_DATE</th>\n",
       "      <th>USER_ID_hash</th>\n",
       "      <th>PREF_NAME_EN</th>\n",
       "      <th>SEX</th>\n",
       "      <th>AGE_GROUP</th>\n",
       "    </tr>\n",
       "  </thead>\n",
       "  <tbody>\n",
       "    <tr>\n",
       "      <th>1</th>\n",
       "      <td>1</td>\n",
       "      <td>2011-05-18 00:41:48</td>\n",
       "      <td>f</td>\n",
       "      <td>34</td>\n",
       "      <td>NaN</td>\n",
       "      <td>560574a339f1b25e57b0221e486907ed</td>\n",
       "      <td>Tokyo</td>\n",
       "      <td>1</td>\n",
       "      <td>1</td>\n",
       "    </tr>\n",
       "  </tbody>\n",
       "</table>\n",
       "</div>"
      ],
      "text/plain": [
       "   Unnamed: 0             REG_DATE SEX_ID  ...  PREF_NAME_EN SEX AGE_GROUP\n",
       "1           1  2011-05-18 00:41:48      f  ...         Tokyo   1         1\n",
       "\n",
       "[1 rows x 9 columns]"
      ]
     },
     "execution_count": 14,
     "metadata": {},
     "output_type": "execute_result"
    }
   ],
   "source": [
    "# let's call this user 'Yuna': 560574a339f1b25e57b0221e486907ed\n",
    "# Registered a month before the training data period started\n",
    "# Lives in Tokyo, so probably lots of local coupons\n",
    "# She bought 16 coupons during the training period\n",
    "# Female - age 34\n",
    "yuna = df_users[df_users['USER_ID_hash'] == '560574a339f1b25e57b0221e486907ed']\n",
    "yuna"
   ]
  },
  {
   "cell_type": "code",
   "execution_count": null,
   "metadata": {
    "colab": {
     "base_uri": "https://localhost:8080/"
    },
    "executionInfo": {
     "elapsed": 276,
     "status": "ok",
     "timestamp": 1635875288454,
     "user": {
      "displayName": "Dan Waters",
      "photoUrl": "https://lh3.googleusercontent.com/a-/AOh14Gg8oyL8Sarv6twUg3wi_p2Qi8dxMbQbjA5YSSm5=s64",
      "userId": "14461703177943287613"
     },
     "user_tz": 300
    },
    "id": "d6ijUmWcsUPR",
    "outputId": "84f0fc95-4080-4ad9-cfce-3aba2b14343d"
   },
   "outputs": [
    {
     "data": {
      "text/plain": [
       "16"
      ]
     },
     "execution_count": 15,
     "metadata": {},
     "output_type": "execute_result"
    }
   ],
   "source": [
    "# Coupons Yuna has bought\n",
    "c_yuna = df_purch_train[df_purch_train['USER_ID_hash'] == '560574a339f1b25e57b0221e486907ed']\n",
    "len(c_yuna)"
   ]
  },
  {
   "cell_type": "code",
   "execution_count": null,
   "metadata": {
    "colab": {
     "base_uri": "https://localhost:8080/",
     "height": 408
    },
    "executionInfo": {
     "elapsed": 286,
     "status": "ok",
     "timestamp": 1635875292556,
     "user": {
      "displayName": "Dan Waters",
      "photoUrl": "https://lh3.googleusercontent.com/a-/AOh14Gg8oyL8Sarv6twUg3wi_p2Qi8dxMbQbjA5YSSm5=s64",
      "userId": "14461703177943287613"
     },
     "user_tz": 300
    },
    "id": "1eJBD3y-tFOZ",
    "outputId": "ead70ca9-6103-4965-df07-f3a5e40bf008"
   },
   "outputs": [
    {
     "data": {
      "text/html": [
       "<div>\n",
       "<style scoped>\n",
       "    .dataframe tbody tr th:only-of-type {\n",
       "        vertical-align: middle;\n",
       "    }\n",
       "\n",
       "    .dataframe tbody tr th {\n",
       "        vertical-align: top;\n",
       "    }\n",
       "\n",
       "    .dataframe thead th {\n",
       "        text-align: right;\n",
       "    }\n",
       "</style>\n",
       "<table border=\"1\" class=\"dataframe\">\n",
       "  <thead>\n",
       "    <tr style=\"text-align: right;\">\n",
       "      <th></th>\n",
       "      <th>Unnamed: 0</th>\n",
       "      <th>ITEM_COUNT</th>\n",
       "      <th>I_DATE</th>\n",
       "      <th>PURCHASEID_hash</th>\n",
       "      <th>USER_ID_hash</th>\n",
       "      <th>COUPON_ID_hash</th>\n",
       "      <th>SMALL_AREA_NAME_EN</th>\n",
       "    </tr>\n",
       "  </thead>\n",
       "  <tbody>\n",
       "    <tr>\n",
       "      <th>1</th>\n",
       "      <td>1</td>\n",
       "      <td>1</td>\n",
       "      <td>2011-07-04 23:52:54</td>\n",
       "      <td>1b4eb2435421ede98c8931c42e8220ec</td>\n",
       "      <td>560574a339f1b25e57b0221e486907ed</td>\n",
       "      <td>767673b7a777854a92b73b0934ddfae7</td>\n",
       "      <td>Ginza, Shinbashi, Tokyo, Ueno</td>\n",
       "    </tr>\n",
       "    <tr>\n",
       "      <th>2</th>\n",
       "      <td>2</td>\n",
       "      <td>1</td>\n",
       "      <td>2011-07-16 00:52:49</td>\n",
       "      <td>36b5f9ba46c44b65587d0b16f2e4c77f</td>\n",
       "      <td>560574a339f1b25e57b0221e486907ed</td>\n",
       "      <td>4f3b5b91d9831192557c056022fdc1f2</td>\n",
       "      <td>Ebisu / Meguro / Shinagawa</td>\n",
       "    </tr>\n",
       "    <tr>\n",
       "      <th>3</th>\n",
       "      <td>3</td>\n",
       "      <td>1</td>\n",
       "      <td>2011-07-16 00:54:53</td>\n",
       "      <td>2f30f46937cc9004774e576914b2aa1a</td>\n",
       "      <td>560574a339f1b25e57b0221e486907ed</td>\n",
       "      <td>4f3b5b91d9831192557c056022fdc1f2</td>\n",
       "      <td>Ebisu / Meguro / Shinagawa</td>\n",
       "    </tr>\n",
       "    <tr>\n",
       "      <th>4</th>\n",
       "      <td>4</td>\n",
       "      <td>1</td>\n",
       "      <td>2011-07-16 00:55:52</td>\n",
       "      <td>4d000c64a55ac573d0ae1a8f03677f50</td>\n",
       "      <td>560574a339f1b25e57b0221e486907ed</td>\n",
       "      <td>4f3b5b91d9831192557c056022fdc1f2</td>\n",
       "      <td>Ebisu / Meguro / Shinagawa</td>\n",
       "    </tr>\n",
       "    <tr>\n",
       "      <th>5</th>\n",
       "      <td>5</td>\n",
       "      <td>1</td>\n",
       "      <td>2011-07-16 00:57:09</td>\n",
       "      <td>d8b030c8a4a2c1051997092a2985b373</td>\n",
       "      <td>560574a339f1b25e57b0221e486907ed</td>\n",
       "      <td>4f3b5b91d9831192557c056022fdc1f2</td>\n",
       "      <td>Ebisu / Meguro / Shinagawa</td>\n",
       "    </tr>\n",
       "  </tbody>\n",
       "</table>\n",
       "</div>"
      ],
      "text/plain": [
       "   Unnamed: 0  ...             SMALL_AREA_NAME_EN\n",
       "1           1  ...  Ginza, Shinbashi, Tokyo, Ueno\n",
       "2           2  ...     Ebisu / Meguro / Shinagawa\n",
       "3           3  ...     Ebisu / Meguro / Shinagawa\n",
       "4           4  ...     Ebisu / Meguro / Shinagawa\n",
       "5           5  ...     Ebisu / Meguro / Shinagawa\n",
       "\n",
       "[5 rows x 7 columns]"
      ]
     },
     "execution_count": 16,
     "metadata": {},
     "output_type": "execute_result"
    }
   ],
   "source": [
    "# More details about Yuna's purchases\n",
    "c_yuna.head()"
   ]
  },
  {
   "cell_type": "code",
   "execution_count": null,
   "metadata": {
    "colab": {
     "base_uri": "https://localhost:8080/",
     "height": 455
    },
    "executionInfo": {
     "elapsed": 622,
     "status": "ok",
     "timestamp": 1635875680239,
     "user": {
      "displayName": "Dan Waters",
      "photoUrl": "https://lh3.googleusercontent.com/a-/AOh14Gg8oyL8Sarv6twUg3wi_p2Qi8dxMbQbjA5YSSm5=s64",
      "userId": "14461703177943287613"
     },
     "user_tz": 300
    },
    "id": "PeEcnYAstXWJ",
    "outputId": "e5c199e8-320e-4cea-8e21-e8b6d466f4ec"
   },
   "outputs": [
    {
     "name": "stdout",
     "output_type": "stream",
     "text": [
      "16\n"
     ]
    },
    {
     "data": {
      "text/html": [
       "<div>\n",
       "<style scoped>\n",
       "    .dataframe tbody tr th:only-of-type {\n",
       "        vertical-align: middle;\n",
       "    }\n",
       "\n",
       "    .dataframe tbody tr th {\n",
       "        vertical-align: top;\n",
       "    }\n",
       "\n",
       "    .dataframe thead th {\n",
       "        text-align: right;\n",
       "    }\n",
       "</style>\n",
       "<table border=\"1\" class=\"dataframe\">\n",
       "  <thead>\n",
       "    <tr style=\"text-align: right;\">\n",
       "      <th></th>\n",
       "      <th>Unnamed: 0_caller</th>\n",
       "      <th>PRICE_RATE</th>\n",
       "      <th>CATALOG_PRICE</th>\n",
       "      <th>DISCOUNT_PRICE</th>\n",
       "      <th>DISPFROM</th>\n",
       "      <th>DISPEND</th>\n",
       "      <th>DISPPERIOD</th>\n",
       "      <th>VALIDFROM</th>\n",
       "      <th>VALIDEND</th>\n",
       "      <th>VALIDPERIOD</th>\n",
       "      <th>USABLE_DATE_MON</th>\n",
       "      <th>USABLE_DATE_TUE</th>\n",
       "      <th>USABLE_DATE_WED</th>\n",
       "      <th>USABLE_DATE_THU</th>\n",
       "      <th>USABLE_DATE_FRI</th>\n",
       "      <th>USABLE_DATE_SAT</th>\n",
       "      <th>USABLE_DATE_SUN</th>\n",
       "      <th>USABLE_DATE_HOLIDAY</th>\n",
       "      <th>USABLE_DATE_BEFORE_HOLIDAY</th>\n",
       "      <th>CAPSULE_TEXT_EN</th>\n",
       "      <th>GENRE_NAME_EN</th>\n",
       "      <th>LARGE_AREA_NAME_EN</th>\n",
       "      <th>SMALL_AREA_NAME_EN_caller</th>\n",
       "      <th>KEN_NAME_EN</th>\n",
       "      <th>Unnamed: 0_other</th>\n",
       "      <th>ITEM_COUNT</th>\n",
       "      <th>I_DATE</th>\n",
       "      <th>PURCHASEID_hash</th>\n",
       "      <th>USER_ID_hash</th>\n",
       "      <th>SMALL_AREA_NAME_EN_other</th>\n",
       "    </tr>\n",
       "    <tr>\n",
       "      <th>COUPON_ID_hash</th>\n",
       "      <th></th>\n",
       "      <th></th>\n",
       "      <th></th>\n",
       "      <th></th>\n",
       "      <th></th>\n",
       "      <th></th>\n",
       "      <th></th>\n",
       "      <th></th>\n",
       "      <th></th>\n",
       "      <th></th>\n",
       "      <th></th>\n",
       "      <th></th>\n",
       "      <th></th>\n",
       "      <th></th>\n",
       "      <th></th>\n",
       "      <th></th>\n",
       "      <th></th>\n",
       "      <th></th>\n",
       "      <th></th>\n",
       "      <th></th>\n",
       "      <th></th>\n",
       "      <th></th>\n",
       "      <th></th>\n",
       "      <th></th>\n",
       "      <th></th>\n",
       "      <th></th>\n",
       "      <th></th>\n",
       "      <th></th>\n",
       "      <th></th>\n",
       "      <th></th>\n",
       "    </tr>\n",
       "  </thead>\n",
       "  <tbody>\n",
       "    <tr>\n",
       "      <th>129a696dac8e7eb0903f02ae217c636e</th>\n",
       "      <td>15551</td>\n",
       "      <td>50</td>\n",
       "      <td>750</td>\n",
       "      <td>370</td>\n",
       "      <td>2012-03-27 12:00:00</td>\n",
       "      <td>2012-03-31 12:00:00</td>\n",
       "      <td>4</td>\n",
       "      <td>2012-04-01</td>\n",
       "      <td>2012-09-26</td>\n",
       "      <td>178.0</td>\n",
       "      <td>1.0</td>\n",
       "      <td>1.0</td>\n",
       "      <td>1.0</td>\n",
       "      <td>1.0</td>\n",
       "      <td>1.0</td>\n",
       "      <td>1.0</td>\n",
       "      <td>1.0</td>\n",
       "      <td>1.0</td>\n",
       "      <td>1.0</td>\n",
       "      <td>Restaurant</td>\n",
       "      <td>Gourmet dining</td>\n",
       "      <td>Kanto</td>\n",
       "      <td>Shibuya, Aoyama, Jiyugaoka</td>\n",
       "      <td>Tokyo</td>\n",
       "      <td>12.0</td>\n",
       "      <td>1.0</td>\n",
       "      <td>2012-03-31 01:31:08</td>\n",
       "      <td>c80173987b3515b63b90617aad48a4d3</td>\n",
       "      <td>560574a339f1b25e57b0221e486907ed</td>\n",
       "      <td>Shibuya, Aoyama, Jiyugaoka</td>\n",
       "    </tr>\n",
       "    <tr>\n",
       "      <th>259a22533cab381464c89f616a56d12d</th>\n",
       "      <td>3770</td>\n",
       "      <td>71</td>\n",
       "      <td>6237</td>\n",
       "      <td>1800</td>\n",
       "      <td>2011-09-05 12:00:00</td>\n",
       "      <td>2011-09-08 12:00:00</td>\n",
       "      <td>3</td>\n",
       "      <td>2011-09-10</td>\n",
       "      <td>2012-02-29</td>\n",
       "      <td>172.0</td>\n",
       "      <td>1.0</td>\n",
       "      <td>1.0</td>\n",
       "      <td>1.0</td>\n",
       "      <td>1.0</td>\n",
       "      <td>1.0</td>\n",
       "      <td>1.0</td>\n",
       "      <td>1.0</td>\n",
       "      <td>1.0</td>\n",
       "      <td>1.0</td>\n",
       "      <td>Restaurant</td>\n",
       "      <td>Gourmet dining</td>\n",
       "      <td>Kanto</td>\n",
       "      <td>Shibuya, Aoyama, Jiyugaoka</td>\n",
       "      <td>Tokyo</td>\n",
       "      <td>7.0</td>\n",
       "      <td>2.0</td>\n",
       "      <td>2011-09-07 00:04:47</td>\n",
       "      <td>5a45d62c72a4cc4155786b03bec74c96</td>\n",
       "      <td>560574a339f1b25e57b0221e486907ed</td>\n",
       "      <td>Shibuya, Aoyama, Jiyugaoka</td>\n",
       "    </tr>\n",
       "    <tr>\n",
       "      <th>34ea3cc1cf4ec57f3547c5fcd4de3abe</th>\n",
       "      <td>14122</td>\n",
       "      <td>50</td>\n",
       "      <td>3120</td>\n",
       "      <td>1550</td>\n",
       "      <td>2012-03-08 12:00:00</td>\n",
       "      <td>2012-03-13 12:00:00</td>\n",
       "      <td>5</td>\n",
       "      <td>2012-03-14</td>\n",
       "      <td>2012-09-08</td>\n",
       "      <td>178.0</td>\n",
       "      <td>1.0</td>\n",
       "      <td>1.0</td>\n",
       "      <td>1.0</td>\n",
       "      <td>1.0</td>\n",
       "      <td>1.0</td>\n",
       "      <td>1.0</td>\n",
       "      <td>1.0</td>\n",
       "      <td>1.0</td>\n",
       "      <td>1.0</td>\n",
       "      <td>Restaurant</td>\n",
       "      <td>Gourmet dining</td>\n",
       "      <td>Kanto</td>\n",
       "      <td>Ginza, Shinbashi, Tokyo, Ueno</td>\n",
       "      <td>Tokyo</td>\n",
       "      <td>11.0</td>\n",
       "      <td>2.0</td>\n",
       "      <td>2012-03-13 00:29:18</td>\n",
       "      <td>6f0b1da67d70392cbd8fb40740371a76</td>\n",
       "      <td>560574a339f1b25e57b0221e486907ed</td>\n",
       "      <td>Ginza, Shinbashi, Tokyo, Ueno</td>\n",
       "    </tr>\n",
       "    <tr>\n",
       "      <th>3e7d148d632f7ee123504e37d3ee9c66</th>\n",
       "      <td>10370</td>\n",
       "      <td>62</td>\n",
       "      <td>12000</td>\n",
       "      <td>4500</td>\n",
       "      <td>2012-01-14 12:00:00</td>\n",
       "      <td>2012-01-17 12:00:00</td>\n",
       "      <td>3</td>\n",
       "      <td>2012-01-18</td>\n",
       "      <td>2012-04-07</td>\n",
       "      <td>80.0</td>\n",
       "      <td>1.0</td>\n",
       "      <td>1.0</td>\n",
       "      <td>1.0</td>\n",
       "      <td>1.0</td>\n",
       "      <td>1.0</td>\n",
       "      <td>1.0</td>\n",
       "      <td>1.0</td>\n",
       "      <td>1.0</td>\n",
       "      <td>1.0</td>\n",
       "      <td>Restaurant</td>\n",
       "      <td>Gourmet dining</td>\n",
       "      <td>Kanto</td>\n",
       "      <td>Shibuya, Aoyama, Jiyugaoka</td>\n",
       "      <td>Tokyo</td>\n",
       "      <td>10.0</td>\n",
       "      <td>2.0</td>\n",
       "      <td>2012-01-15 20:53:59</td>\n",
       "      <td>231e87e928a48403a92783780010aef9</td>\n",
       "      <td>560574a339f1b25e57b0221e486907ed</td>\n",
       "      <td>Shibuya, Aoyama, Jiyugaoka</td>\n",
       "    </tr>\n",
       "    <tr>\n",
       "      <th>4257a8a169b40bbbcb002ec47ab3de13</th>\n",
       "      <td>8477</td>\n",
       "      <td>55</td>\n",
       "      <td>4470</td>\n",
       "      <td>1980</td>\n",
       "      <td>2011-12-01 12:00:00</td>\n",
       "      <td>2011-12-05 12:00:00</td>\n",
       "      <td>4</td>\n",
       "      <td>2011-12-06</td>\n",
       "      <td>2012-06-01</td>\n",
       "      <td>178.0</td>\n",
       "      <td>1.0</td>\n",
       "      <td>1.0</td>\n",
       "      <td>1.0</td>\n",
       "      <td>1.0</td>\n",
       "      <td>1.0</td>\n",
       "      <td>2.0</td>\n",
       "      <td>2.0</td>\n",
       "      <td>1.0</td>\n",
       "      <td>1.0</td>\n",
       "      <td>Relaxation</td>\n",
       "      <td>Relaxation</td>\n",
       "      <td>Kanto</td>\n",
       "      <td>Ebisu / Meguro / Shinagawa</td>\n",
       "      <td>Tokyo</td>\n",
       "      <td>9.0</td>\n",
       "      <td>1.0</td>\n",
       "      <td>2011-12-01 16:53:45</td>\n",
       "      <td>509883c481716b1f3abeac8372b36a5d</td>\n",
       "      <td>560574a339f1b25e57b0221e486907ed</td>\n",
       "      <td>Ebisu / Meguro / Shinagawa</td>\n",
       "    </tr>\n",
       "  </tbody>\n",
       "</table>\n",
       "</div>"
      ],
      "text/plain": [
       "                                  Unnamed: 0_caller  ...       SMALL_AREA_NAME_EN_other\n",
       "COUPON_ID_hash                                       ...                               \n",
       "129a696dac8e7eb0903f02ae217c636e              15551  ...     Shibuya, Aoyama, Jiyugaoka\n",
       "259a22533cab381464c89f616a56d12d               3770  ...     Shibuya, Aoyama, Jiyugaoka\n",
       "34ea3cc1cf4ec57f3547c5fcd4de3abe              14122  ...  Ginza, Shinbashi, Tokyo, Ueno\n",
       "3e7d148d632f7ee123504e37d3ee9c66              10370  ...     Shibuya, Aoyama, Jiyugaoka\n",
       "4257a8a169b40bbbcb002ec47ab3de13               8477  ...     Ebisu / Meguro / Shinagawa\n",
       "\n",
       "[5 rows x 30 columns]"
      ]
     },
     "execution_count": 19,
     "metadata": {},
     "output_type": "execute_result"
    }
   ],
   "source": [
    "# OK, we need more info from the coupon list, so let's join them. \n",
    "df_purch_details = df_c_list_train.set_index('COUPON_ID_hash').join(df_purch_train.set_index('COUPON_ID_hash'), lsuffix='_caller', rsuffix='_other')\n",
    "c_yuna_details = df_purch_details[df_purch_details['USER_ID_hash'] == '560574a339f1b25e57b0221e486907ed']\n",
    "print(len(c_yuna_details))\n",
    "c_yuna_details.head(5)"
   ]
  },
  {
   "cell_type": "code",
   "execution_count": 1,
   "metadata": {
    "colab": {
     "base_uri": "https://localhost:8080/",
     "height": 229
    },
    "executionInfo": {
     "elapsed": 8,
     "status": "error",
     "timestamp": 1635876910989,
     "user": {
      "displayName": "Dan Waters",
      "photoUrl": "https://lh3.googleusercontent.com/a-/AOh14Gg8oyL8Sarv6twUg3wi_p2Qi8dxMbQbjA5YSSm5=s64",
      "userId": "14461703177943287613"
     },
     "user_tz": 300
    },
    "id": "Yi2CUInUw3He",
    "outputId": "15bda8eb-695a-46fa-e891-f6e72e56a229"
   },
   "outputs": [
    {
     "ename": "NameError",
     "evalue": "ignored",
     "output_type": "error",
     "traceback": [
      "\u001b[0;31m---------------------------------------------------------------------------\u001b[0m",
      "\u001b[0;31mNameError\u001b[0m                                 Traceback (most recent call last)",
      "\u001b[0;32m<ipython-input-1-2d34c2a72862>\u001b[0m in \u001b[0;36m<module>\u001b[0;34m()\u001b[0m\n\u001b[0;32m----> 1\u001b[0;31m \u001b[0mgenres\u001b[0m \u001b[0;34m=\u001b[0m \u001b[0mc_yuna_details\u001b[0m\u001b[0;34m.\u001b[0m\u001b[0mgroupby\u001b[0m\u001b[0;34m(\u001b[0m\u001b[0;34m'GENRE_NAME_EN'\u001b[0m\u001b[0;34m)\u001b[0m\u001b[0;34m.\u001b[0m\u001b[0msize\u001b[0m\u001b[0;34m(\u001b[0m\u001b[0;34m)\u001b[0m\u001b[0;34m\u001b[0m\u001b[0;34m\u001b[0m\u001b[0m\n\u001b[0m\u001b[1;32m      2\u001b[0m \u001b[0mg\u001b[0m \u001b[0;34m=\u001b[0m \u001b[0mgenres\u001b[0m\u001b[0;34m.\u001b[0m\u001b[0mto_frame\u001b[0m\u001b[0;34m(\u001b[0m\u001b[0;34m)\u001b[0m\u001b[0;34m.\u001b[0m\u001b[0mreset_index\u001b[0m\u001b[0;34m(\u001b[0m\u001b[0;34m)\u001b[0m\u001b[0;34m\u001b[0m\u001b[0;34m\u001b[0m\u001b[0m\n\u001b[1;32m      3\u001b[0m \u001b[0mg\u001b[0m\u001b[0;34m.\u001b[0m\u001b[0mcolumns\u001b[0m \u001b[0;34m=\u001b[0m \u001b[0;34m[\u001b[0m\u001b[0;34m'Genre'\u001b[0m\u001b[0;34m,\u001b[0m \u001b[0;34m'Count'\u001b[0m\u001b[0;34m]\u001b[0m\u001b[0;34m\u001b[0m\u001b[0;34m\u001b[0m\u001b[0m\n\u001b[1;32m      4\u001b[0m \u001b[0;34m\u001b[0m\u001b[0m\n\u001b[1;32m      5\u001b[0m \u001b[0mfig\u001b[0m\u001b[0;34m,\u001b[0m \u001b[0max\u001b[0m \u001b[0;34m=\u001b[0m \u001b[0mplt\u001b[0m\u001b[0;34m.\u001b[0m\u001b[0msubplots\u001b[0m\u001b[0;34m(\u001b[0m\u001b[0mfigsize\u001b[0m\u001b[0;34m=\u001b[0m\u001b[0;34m(\u001b[0m\u001b[0;36m10\u001b[0m\u001b[0;34m,\u001b[0m \u001b[0;36m6\u001b[0m\u001b[0;34m)\u001b[0m\u001b[0;34m)\u001b[0m\u001b[0;34m\u001b[0m\u001b[0;34m\u001b[0m\u001b[0m\n",
      "\u001b[0;31mNameError\u001b[0m: name 'c_yuna_details' is not defined"
     ]
    }
   ],
   "source": [
    "genres = c_yuna_details.groupby('GENRE_NAME_EN').size()\n",
    "g = genres.to_frame().reset_index()\n",
    "g.columns = ['Genre', 'Count']\n",
    "\n",
    "fig, ax = plt.subplots(figsize=(10, 6))\n",
    "sns.barplot(ax=ax, x=g['Genre'], y=g['Count'])\n",
    "plt.yticks(range(1,10))\n",
    "plt.title(\"Coupons purchased by 'Yuna' (16 total)\")"
   ]
  },
  {
   "cell_type": "code",
   "execution_count": null,
   "metadata": {
    "id": "nXNxeKRfv8jT"
   },
   "outputs": [],
   "source": []
  }
 ],
 "metadata": {
  "colab": {
   "collapsed_sections": [],
   "name": "[Make a copy] BruteForce - Individual Coupon EDA.ipynb",
   "provenance": [
    {
     "file_id": "1C82LbmNrgwGg2oc41-7OunV2oPTg3mz0",
     "timestamp": 1635876681621
    },
    {
     "file_id": "1UXcJb0VehDPvY01-l9skBA64LLUIjWE2",
     "timestamp": 1635809783990
    }
   ]
  },
  "kernelspec": {
   "display_name": "Python 3",
   "language": "python",
   "name": "python3"
  },
  "language_info": {
   "codemirror_mode": {
    "name": "ipython",
    "version": 3
   },
   "file_extension": ".py",
   "mimetype": "text/x-python",
   "name": "python",
   "nbconvert_exporter": "python",
   "pygments_lexer": "ipython3",
   "version": "3.7.7"
  }
 },
 "nbformat": 4,
 "nbformat_minor": 1
}
