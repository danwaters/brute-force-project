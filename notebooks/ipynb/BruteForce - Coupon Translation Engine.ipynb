{
 "cells": [
  {
   "cell_type": "markdown",
   "metadata": {
    "id": "_55E3-GVHuGx"
   },
   "source": [
    "# Data acquisition from Kaggle\n",
    "\n",
    "**Important Note:** You must sign up for the competition [here](https://www.kaggle.com/c/coupon-purchase-prediction/data) and download your kaggle.json from your Kaggle account page. See Steps 1-2 [here](https://www.analyticsvidhya.com/blog/2021/06/how-to-load-kaggle-datasets-directly-into-google-colab/) for more information."
   ]
  },
  {
   "cell_type": "code",
   "execution_count": null,
   "metadata": {
    "colab": {
     "base_uri": "https://localhost:8080/",
     "height": 90,
     "resources": {
      "http://localhost:8080/nbextensions/google.colab/files.js": {
       "data": "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",
       "headers": [
        [
         "content-type",
         "application/javascript"
        ]
       ],
       "ok": true,
       "status": 200,
       "status_text": ""
      }
     }
    },
    "id": "TNqqoz0-HFVC",
    "outputId": "34088b68-178a-47d3-e393-dc252ada9037"
   },
   "outputs": [
    {
     "data": {
      "text/html": [
       "\n",
       "     <input type=\"file\" id=\"files-f9ae7104-09b8-41c1-8037-efd0be84f37e\" name=\"files[]\" multiple disabled\n",
       "        style=\"border:none\" />\n",
       "     <output id=\"result-f9ae7104-09b8-41c1-8037-efd0be84f37e\">\n",
       "      Upload widget is only available when the cell has been executed in the\n",
       "      current browser session. Please rerun this cell to enable.\n",
       "      </output>\n",
       "      <script src=\"/nbextensions/google.colab/files.js\"></script> "
      ],
      "text/plain": [
       "<IPython.core.display.HTML object>"
      ]
     },
     "metadata": {},
     "output_type": "display_data"
    },
    {
     "name": "stdout",
     "output_type": "stream",
     "text": [
      "Saving kaggle.json to kaggle.json\n"
     ]
    },
    {
     "data": {
      "text/plain": [
       "{'kaggle.json': b'{\"username\":\"catapultic\",\"key\":\"bc709cc2cfed23022adc91952ba357c7\"}'}"
      ]
     },
     "execution_count": 1,
     "metadata": {},
     "output_type": "execute_result"
    }
   ],
   "source": [
    "from google.colab import files\n",
    "\n",
    "# UPLOAD YOUR KAGGLE.JSON\n",
    "# Only run this cell if you need to upload kaggle.json\n",
    "files.upload()"
   ]
  },
  {
   "cell_type": "code",
   "execution_count": null,
   "metadata": {
    "colab": {
     "base_uri": "https://localhost:8080/"
    },
    "id": "nPtb76jNDvyz",
    "outputId": "6db196fd-67f6-4a00-c9f0-9ebcddf5043e"
   },
   "outputs": [
    {
     "name": "stdout",
     "output_type": "stream",
     "text": [
      "Requirement already satisfied: kaggle in /usr/local/lib/python3.7/dist-packages (1.5.12)\n",
      "Requirement already satisfied: six>=1.10 in /usr/local/lib/python3.7/dist-packages (from kaggle) (1.15.0)\n",
      "Requirement already satisfied: python-slugify in /usr/local/lib/python3.7/dist-packages (from kaggle) (5.0.2)\n",
      "Requirement already satisfied: tqdm in /usr/local/lib/python3.7/dist-packages (from kaggle) (4.62.3)\n",
      "Requirement already satisfied: urllib3 in /usr/local/lib/python3.7/dist-packages (from kaggle) (1.24.3)\n",
      "Requirement already satisfied: certifi in /usr/local/lib/python3.7/dist-packages (from kaggle) (2021.5.30)\n",
      "Requirement already satisfied: requests in /usr/local/lib/python3.7/dist-packages (from kaggle) (2.23.0)\n",
      "Requirement already satisfied: python-dateutil in /usr/local/lib/python3.7/dist-packages (from kaggle) (2.8.2)\n",
      "Requirement already satisfied: text-unidecode>=1.3 in /usr/local/lib/python3.7/dist-packages (from python-slugify->kaggle) (1.3)\n",
      "Requirement already satisfied: idna<3,>=2.5 in /usr/local/lib/python3.7/dist-packages (from requests->kaggle) (2.10)\n",
      "Requirement already satisfied: chardet<4,>=3.0.2 in /usr/local/lib/python3.7/dist-packages (from requests->kaggle) (3.0.4)\n"
     ]
    }
   ],
   "source": [
    "# Kaggle credentials setup\n",
    "!pip install kaggle\n",
    "!mkdir ~/.kaggle\n",
    "!cp kaggle.json ~/.kaggle/\n",
    "!chmod 600 ~/.kaggle/kaggle.json"
   ]
  },
  {
   "cell_type": "code",
   "execution_count": null,
   "metadata": {
    "colab": {
     "base_uri": "https://localhost:8080/"
    },
    "id": "WIlQsVNND2AX",
    "outputId": "7749200b-45b8-4fe7-e970-a7c80b5a76d4"
   },
   "outputs": [
    {
     "name": "stdout",
     "output_type": "stream",
     "text": [
      "Warning: Looks like you're using an outdated API Version, please consider updating (server 1.5.12 / client 1.5.4)\n",
      "Downloading prefecture_locations.csv to data\n",
      "  0% 0.00/2.00k [00:00<?, ?B/s]\n",
      "100% 2.00k/2.00k [00:00<00:00, 3.63MB/s]\n",
      "Downloading coupon_detail_train.csv.zip to data\n",
      " 68% 5.00M/7.32M [00:00<00:00, 29.3MB/s]\n",
      "100% 7.32M/7.32M [00:00<00:00, 35.9MB/s]\n",
      "Downloading sample_submission.csv.zip to data\n",
      "  0% 0.00/400k [00:00<?, ?B/s]\n",
      "100% 400k/400k [00:00<00:00, 123MB/s]\n",
      "Downloading coupon_area_test.csv.zip to data\n",
      "  0% 0.00/14.0k [00:00<?, ?B/s]\n",
      "100% 14.0k/14.0k [00:00<00:00, 12.4MB/s]\n",
      "Downloading coupon_list_train.csv.zip to data\n",
      "  0% 0.00/656k [00:00<?, ?B/s]\n",
      "100% 656k/656k [00:00<00:00, 92.9MB/s]\n",
      "Downloading documentation.zip to data\n",
      "  0% 0.00/21.6k [00:00<?, ?B/s]\n",
      "100% 21.6k/21.6k [00:00<00:00, 21.9MB/s]\n",
      "Downloading user_list.csv.zip to data\n",
      "  0% 0.00/627k [00:00<?, ?B/s]\n",
      "100% 627k/627k [00:00<00:00, 88.8MB/s]\n",
      "Downloading coupon_visit_train.csv.zip to data\n",
      " 77% 65.0M/84.5M [00:00<00:00, 54.5MB/s]\n",
      "100% 84.5M/84.5M [00:00<00:00, 133MB/s] \n",
      "Downloading coupon_area_train.csv.zip to data\n",
      "  0% 0.00/832k [00:00<?, ?B/s]\n",
      "100% 832k/832k [00:00<00:00, 119MB/s]\n",
      "Downloading coupon_list_test.csv.zip to data\n",
      "  0% 0.00/11.6k [00:00<?, ?B/s]\n",
      "100% 11.6k/11.6k [00:00<00:00, 11.5MB/s]\n"
     ]
    }
   ],
   "source": [
    "# Download Coupon Purchase Prediction data set\n",
    "!kaggle competitions download -c coupon-purchase-prediction -p data"
   ]
  },
  {
   "cell_type": "code",
   "execution_count": null,
   "metadata": {
    "colab": {
     "base_uri": "https://localhost:8080/"
    },
    "id": "GIMtwg5qEFyf",
    "outputId": "a0cc2421-3523-4b96-bed8-ff4c633cedb1"
   },
   "outputs": [
    {
     "name": "stdout",
     "output_type": "stream",
     "text": [
      "Archive:  data/user_list.csv.zip\n",
      "  inflating: data/user_list.csv      \n",
      "Archive:  data/coupon_list_train.csv.zip\n",
      "  inflating: data/coupon_list_train.csv  \n",
      "Archive:  data/coupon_list_test.csv.zip\n",
      "  inflating: data/coupon_list_test.csv  \n",
      "Archive:  data/coupon_area_train.csv.zip\n",
      "  inflating: data/coupon_area_train.csv  \n",
      "Archive:  data/coupon_area_test.csv.zip\n",
      "  inflating: data/coupon_area_test.csv  \n",
      "Archive:  data/coupon_detail_train.csv.zip\n",
      "  inflating: data/coupon_detail_train.csv  \n",
      "Archive:  data/coupon_visit_train.csv.zip\n",
      "  inflating: data/coupon_visit_train.csv  \n"
     ]
    }
   ],
   "source": [
    "# unzip and reorganize the zipped tables\n",
    "# Master list of users\n",
    "!unzip data/user_list.csv.zip -d data/\n",
    "\n",
    "# Master list of coupons (train & test)\n",
    "!unzip data/coupon_list_train.csv.zip -d data/\n",
    "!unzip data/coupon_list_test.csv.zip -d data/\n",
    "\n",
    "# Table containing physical areas where coupons are available (train & test)\n",
    "!unzip data/coupon_area_train.csv.zip -d data/\n",
    "!unzip data/coupon_area_test.csv.zip -d data/\n",
    "\n",
    "# Purchase log of users buying coupons during the training period (train only)\n",
    "!unzip data/coupon_detail_train.csv.zip -d data/\n",
    "\n",
    "# Browsing log of users visiting coupons during the training period (train only)\n",
    "!unzip data/coupon_visit_train.csv.zip -d data/"
   ]
  },
  {
   "cell_type": "code",
   "execution_count": null,
   "metadata": {
    "id": "Y_qCWfJEGbuc"
   },
   "outputs": [],
   "source": [
    "# Delete unused zip files\n",
    "!rm -f data/*.zip"
   ]
  },
  {
   "cell_type": "markdown",
   "metadata": {
    "id": "yGhtMkAtJEQg"
   },
   "source": [
    "## Translation of Japanese columns to English\n",
    "Note: This does a full translation of the Japanese characters to English. It does not transliterate the Japanese place names to their English counterparts. We end up with the actual meaning of the Japanese names sometimes, like \"Place which is by the water.\" That is okay - it is not important for training, they just help us explore the data and understand what we are looking at. "
   ]
  },
  {
   "cell_type": "code",
   "execution_count": null,
   "metadata": {
    "id": "TxJ3bXS9JK-N"
   },
   "outputs": [],
   "source": [
    "# dependencies\n",
    "%%capture\n",
    "!pip install git+https://github.com/neuml/txtai#egg=txtai[pipeline]\n",
    "!pip install pykakasi \n",
    "\n",
    "# imports\n",
    "import pandas as pd\n",
    "import numpy as np\n",
    "import matplotlib.pyplot as plt\n",
    "from tqdm import tqdm\n",
    "from txtai.pipeline import Translation\n",
    "import pykakasi\n",
    "\n",
    "translate = Translation()\n",
    "kks = pykakasi.kakasi()"
   ]
  },
  {
   "cell_type": "markdown",
   "metadata": {
    "id": "JeF_nSYlIlaC"
   },
   "source": [
    "#### Translation helper functions"
   ]
  },
  {
   "cell_type": "code",
   "execution_count": null,
   "metadata": {
    "id": "inqtau1cdw-N"
   },
   "outputs": [],
   "source": [
    "# Lookup table of translations to save time\n",
    "translations = {}\n",
    "\n",
    "# Translates jp->en using txtai package (unless NaN)\n",
    "def safe_translate(jp, transliterate=False):\n",
    "  if pd.isna(jp) == False:\n",
    "    if transliterate == True: # use pykakasi\n",
    "      return ''.join([item['hepburn'].capitalize() for item in kks.convert(jp)])\n",
    "    else:\n",
    "      return translate(jp, 'en') # using txtai\n",
    "  else:\n",
    "    return jp\n",
    "\n",
    "# Checks the translation dict first before translating\n",
    "def lookup_or_translate(jp):\n",
    "  if (jp not in translations):\n",
    "    translations[jp] = safe_translate(jp) # pass transliterate=True to use kakasi\n",
    "  return translations[jp]\n",
    "\n",
    "# Translates an entire column/list of data\n",
    "def translate_list(data):\n",
    "  translated = []\n",
    "  for word in tqdm(data):\n",
    "    t = lookup_or_translate(word)\n",
    "    translated.append(t)\n",
    "  return translated"
   ]
  },
  {
   "cell_type": "code",
   "execution_count": null,
   "metadata": {
    "id": "CqXrmc7VZiKK"
   },
   "outputs": [],
   "source": [
    "# Main loading function - takes a csv path, columns to translate, \n",
    "# and returns a Pandas dataframe. Translates columns in-place.\n",
    "def load_translate(csv_path, translate_columns=[]):\n",
    "  df = pd.read_csv(csv_path)\n",
    "  for c in translate_columns:\n",
    "    df[c] = translate_list(df[c])\n",
    "  return df"
   ]
  },
  {
   "cell_type": "code",
   "execution_count": null,
   "metadata": {
    "id": "4S6LI8R0Zgjq"
   },
   "outputs": [],
   "source": [
    "# Create lists of columns that need to be translated for each table\n",
    "# Coupon Visit Training set does not require any translation\n",
    "\n",
    "# User list table\n",
    "user_cols = ['PREF_NAME'] \n",
    "\n",
    "# Coupon list train and test\n",
    "c_list_cols = ['CAPSULE_TEXT', 'GENRE_NAME', 'large_area_name', \n",
    "               'ken_name', 'small_area_name']\n",
    "\n",
    "# Coupon detail\n",
    "c_detail_cols = ['SMALL_AREA_NAME']\n",
    "\n",
    "# Coupon area train and test\n",
    "c_area_cols = ['SMALL_AREA_NAME', 'PREF_NAME']\n",
    "\n",
    "# Prefecture locations\n",
    "c_pref_cols = ['PREF_NAME', 'PREFECTUAL_OFFICE']"
   ]
  },
  {
   "cell_type": "code",
   "execution_count": null,
   "metadata": {
    "colab": {
     "base_uri": "https://localhost:8080/"
    },
    "id": "sQT9FxaVNZ-a",
    "outputId": "f703310e-b547-4dc1-dce5-e98ac2fb7ff9"
   },
   "outputs": [
    {
     "name": "stderr",
     "output_type": "stream",
     "text": [
      "100%|██████████| 22873/22873 [00:13<00:00, 1753.43it/s]\n",
      "100%|██████████| 138185/138185 [00:13<00:00, 10442.66it/s]\n",
      "100%|██████████| 138185/138185 [00:00<00:00, 1506073.77it/s]\n",
      "100%|██████████| 2165/2165 [00:00<00:00, 1499697.47it/s]\n",
      "100%|██████████| 2165/2165 [00:00<00:00, 974216.09it/s]\n",
      "100%|██████████| 19413/19413 [00:01<00:00, 13570.95it/s]\n",
      "100%|██████████| 19413/19413 [00:00<00:00, 104246.77it/s]\n",
      "100%|██████████| 19413/19413 [00:02<00:00, 8221.92it/s]\n",
      "100%|██████████| 19413/19413 [00:00<00:00, 1045063.39it/s]\n",
      "100%|██████████| 19413/19413 [00:00<00:00, 1357587.47it/s]\n",
      "100%|██████████| 310/310 [00:00<00:00, 684694.18it/s]\n",
      "100%|██████████| 310/310 [00:00<00:00, 664741.43it/s]\n",
      "100%|██████████| 310/310 [00:00<00:00, 677205.33it/s]\n",
      "100%|██████████| 310/310 [00:00<00:00, 582020.70it/s]\n",
      "100%|██████████| 310/310 [00:00<00:00, 410039.18it/s]\n",
      "100%|██████████| 168996/168996 [00:00<00:00, 1475148.38it/s]\n",
      "100%|██████████| 47/47 [00:00<00:00, 205132.45it/s]\n",
      "100%|██████████| 47/47 [00:09<00:00,  4.99it/s]\n"
     ]
    }
   ],
   "source": [
    "# Perform the translations and load the data into DataFrames\n",
    "df_users = load_translate('data/user_list.csv', user_cols)\n",
    "df_area_train = load_translate('data/coupon_area_train.csv', c_area_cols)\n",
    "df_area_test = load_translate('data/coupon_area_test.csv', c_area_cols)\n",
    "df_c_list_train = load_translate('data/coupon_list_train.csv', c_list_cols)\n",
    "df_c_list_test  = load_translate('data/coupon_list_test.csv', c_list_cols)\n",
    "df_c_detail_train = load_translate('data/coupon_detail_train.csv', c_detail_cols)\n",
    "df_visit_train = load_translate('data/coupon_visit_train.csv')\n",
    "df_locations = load_translate('data/prefecture_locations.csv', c_pref_cols)"
   ]
  },
  {
   "cell_type": "code",
   "execution_count": null,
   "metadata": {
    "colab": {
     "base_uri": "https://localhost:8080/"
    },
    "id": "EMRvRIRYPC8Y",
    "outputId": "d3ad5ccf-c515-4139-b8fd-a75267b3b596"
   },
   "outputs": [
    {
     "name": "stdout",
     "output_type": "stream",
     "text": [
      "  adding: data_translated/ (stored 0%)\n",
      "  adding: data_translated/coupon_visit_train.csv (deflated 77%)\n",
      "  adding: data_translated/prefecture_locations.csv (deflated 51%)\n",
      "  adding: data_translated/coupon_area_test.csv (deflated 89%)\n",
      "  adding: data_translated/coupon_detail_train.csv (deflated 66%)\n",
      "  adding: data_translated/coupon_list_test.csv (deflated 78%)\n",
      "  adding: data_translated/coupon_list_train.csv (deflated 79%)\n",
      "  adding: data_translated/coupon_area_train.csv (deflated 89%)\n",
      "  adding: data_translated/user_list.csv (deflated 55%)\n"
     ]
    }
   ],
   "source": [
    "# Save CSV files to translated output. \n",
    "!mkdir data_translated\n",
    "dir = 'data_translated'\n",
    "\n",
    "df_users.to_csv(f'{dir}/user_list.csv')\n",
    "df_area_test.to_csv(f'{dir}/coupon_area_test.csv')\n",
    "df_area_train.to_csv(f'{dir}/coupon_area_train.csv')\n",
    "df_c_detail_train.to_csv(f'{dir}/coupon_detail_train.csv')\n",
    "df_c_list_test.to_csv(f'{dir}/coupon_list_test.csv')\n",
    "df_c_list_train.to_csv(f'{dir}/coupon_list_train.csv')\n",
    "df_visit_train.to_csv(f'{dir}/coupon_visit_train.csv')\n",
    "df_locations.to_csv(f'{dir}/prefecture_locations.csv')\n",
    "\n",
    "!zip -r translated_data.zip data_translated/"
   ]
  },
  {
   "cell_type": "code",
   "execution_count": null,
   "metadata": {
    "id": "vqcEUkT5Tnhi"
   },
   "outputs": [],
   "source": []
  }
 ],
 "metadata": {
  "accelerator": "GPU",
  "colab": {
   "collapsed_sections": [],
   "name": "BruteForce - Coupon - Translation Engine.ipynb",
   "provenance": []
  },
  "kernelspec": {
   "display_name": "Python 3",
   "language": "python",
   "name": "python3"
  },
  "language_info": {
   "codemirror_mode": {
    "name": "ipython",
    "version": 3
   },
   "file_extension": ".py",
   "mimetype": "text/x-python",
   "name": "python",
   "nbconvert_exporter": "python",
   "pygments_lexer": "ipython3",
   "version": "3.7.7"
  }
 },
 "nbformat": 4,
 "nbformat_minor": 1
}
