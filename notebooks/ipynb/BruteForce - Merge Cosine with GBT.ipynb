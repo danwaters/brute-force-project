{
  "nbformat": 4,
  "nbformat_minor": 0,
  "metadata": {
    "colab": {
      "name": "[Brute Force] Merge Cosine with GBT.ipynb",
      "provenance": []
    },
    "kernelspec": {
      "name": "python3",
      "display_name": "Python 3"
    },
    "language_info": {
      "name": "python"
    }
  },
  "cells": [
    {
      "cell_type": "markdown",
      "metadata": {
        "id": "e7TatvOX-UXC"
      },
      "source": [
        "# Team BruteForce\n",
        "## Coupon Purchase Prediction\n",
        "\n",
        "## Blended Cosine Similarity with GBT"
      ]
    },
    {
      "cell_type": "markdown",
      "metadata": {
        "id": "qvwZs6PXvS_R"
      },
      "source": [
        "This notebook takes the high-performing cosine similarity submission and merges it with the great predictions from TF Gradient Boosted Tree submission. The Cosine Similarity submission contains the top 10 coupons a user is likely to purchase based on actual purchase history. This means there are some users who did not get assigned any coupons. For those users who did not get assigned any coupons, we simply take the predictions from Gradient Boosted Trees (which is trained on **browsing data** and backfill those user predictions with this algorithm. In a way, this is like an ensemble method, though implemented manually for ease of submission to Kaggle."
      ]
    },
    {
      "cell_type": "code",
      "metadata": {
        "id": "ILKVfz8Vwa3A"
      },
      "source": [
        "import pandas as pd\n",
        "import numpy as np"
      ],
      "execution_count": 14,
      "outputs": []
    },
    {
      "cell_type": "code",
      "metadata": {
        "colab": {
          "base_uri": "https://localhost:8080/"
        },
        "id": "sFd8Uiibvn8w",
        "outputId": "3b2e4c95-9864-4156-bf5b-bd90528d7df5"
      },
      "source": [
        "# get the data\n",
        "\n",
        "# Cosine Similarity\n",
        "!gdown --id 1UNHoz8KKd7uO8osyb7vSlc86bJ-GurFG\n",
        "!gdown --id 1W8VTT72qdL_rtMgqOstubaJwouiAaxVN"
      ],
      "execution_count": 2,
      "outputs": [
        {
          "output_type": "stream",
          "name": "stdout",
          "text": [
            "Downloading...\n",
            "From: https://drive.google.com/uc?id=1UNHoz8KKd7uO8osyb7vSlc86bJ-GurFG\n",
            "To: /content/submission_cosine.csv\n",
            "100% 8.27M/8.27M [00:00<00:00, 72.8MB/s]\n",
            "Downloading...\n",
            "From: https://drive.google.com/uc?id=1W8VTT72qdL_rtMgqOstubaJwouiAaxVN\n",
            "To: /content/submission_gradient_boosted_hp.csv\n",
            "100% 8.30M/8.30M [00:00<00:00, 73.1MB/s]\n"
          ]
        }
      ]
    },
    {
      "cell_type": "code",
      "metadata": {
        "colab": {
          "base_uri": "https://localhost:8080/"
        },
        "id": "UUDzBhESwHsz",
        "outputId": "6ad5c6f3-1aaa-422a-ecf6-76e7536393fc"
      },
      "source": [
        "df_cosine = pd.read_csv('submission_cosine.csv')\n",
        "df_gbt    = pd.read_csv('submission_gradient_boosted_hp.csv')\n",
        "\n",
        "# Gradient Boosted is based on browsing data, so it is the superset here. \n",
        "# We augment the cosine similarity set.\n",
        "df_final = df_cosine\n",
        "\n",
        "print(f'df_cosine length: {len(df_cosine)}')\n",
        "print(f'df_gbt length: {len(df_gbt)}')\n",
        "\n",
        "# empty calculations\n",
        "empty_cosine = len(df_cosine[df_cosine['PURCHASED_COUPONS'].isna()])\n",
        "empty_gbt   = len(df_gbt[df_gbt['PURCHASED_COUPONS'].isna()])\n",
        "print(f'Empty values: COSINE {empty_cosine}; GBT {empty_gbt}')"
      ],
      "execution_count": 73,
      "outputs": [
        {
          "output_type": "stream",
          "name": "stdout",
          "text": [
            "df_cosine length: 22873\n",
            "df_gbt length: 22873\n",
            "Empty values: COSINE 91; GBT 0\n"
          ]
        }
      ]
    },
    {
      "cell_type": "code",
      "metadata": {
        "id": "Ty1B9wmlw1qU"
      },
      "source": [
        "# As you can see, we can augment this cosine result with more users"
      ],
      "execution_count": 74,
      "outputs": []
    },
    {
      "cell_type": "code",
      "metadata": {
        "colab": {
          "base_uri": "https://localhost:8080/"
        },
        "id": "XZcFrlq8y94N",
        "outputId": "dc4ba7ab-7e2f-4180-f1c3-1d6e80ad45d6"
      },
      "source": [
        "augmented = 0\n",
        "df_final_empty = df_final[df_final['PURCHASED_COUPONS'].isna()]\n",
        "print(f'adjusting {len(df_final_empty)} rows')\n",
        "\n",
        "# loop only through the couponless-users\n",
        "for i, r in df_final_empty.iterrows():\n",
        "  user_id = r['USER_ID_hash']\n",
        "  # get the gbt row's coupons\n",
        "  coupons = df_gbt.loc[df_gbt['USER_ID_hash'] == user_id].PURCHASED_COUPONS\n",
        "\n",
        "  # assign to final dataset\n",
        "  df_final.loc[df_final['USER_ID_hash'] == user_id, 'PURCHASED_COUPONS'] = coupons\n",
        "  augmented += 1"
      ],
      "execution_count": 75,
      "outputs": [
        {
          "output_type": "stream",
          "name": "stdout",
          "text": [
            "adjusting 91 rows\n"
          ]
        }
      ]
    },
    {
      "cell_type": "code",
      "metadata": {
        "colab": {
          "base_uri": "https://localhost:8080/"
        },
        "id": "D1p1G7Gxzcan",
        "outputId": "85ca01ae-8e69-4d03-a411-08943afe0948"
      },
      "source": [
        "# see how many rows we gained\n",
        "print(f'added {augmented} sets of coupons')\n",
        "\n",
        "#  null length\n",
        "nulls = df_final[df_final['PURCHASED_COUPONS'].isna()]\n",
        "print(f'null count: {len(nulls)}')"
      ],
      "execution_count": 77,
      "outputs": [
        {
          "output_type": "stream",
          "name": "stdout",
          "text": [
            "added 91 sets of coupons\n",
            "null count: 0\n"
          ]
        }
      ]
    },
    {
      "cell_type": "code",
      "metadata": {
        "colab": {
          "base_uri": "https://localhost:8080/"
        },
        "id": "y0UAZhyw7tC6",
        "outputId": "522d54c4-9de6-4889-b970-00c9fe84a6dd"
      },
      "source": [
        "# re-check length\n",
        "print(f'final length: {len(df_final)}')\n",
        "assert len(df_final) == len(df_cosine), 'Length does not match'"
      ],
      "execution_count": 79,
      "outputs": [
        {
          "output_type": "stream",
          "name": "stdout",
          "text": [
            "final length: 22873\n"
          ]
        }
      ]
    },
    {
      "cell_type": "code",
      "metadata": {
        "id": "G2zAm31Y8nwr"
      },
      "source": [
        "df_final.to_csv('submission_cosine_blended_gbt.csv', header=True, index=False)"
      ],
      "execution_count": 80,
      "outputs": []
    }
  ]
}