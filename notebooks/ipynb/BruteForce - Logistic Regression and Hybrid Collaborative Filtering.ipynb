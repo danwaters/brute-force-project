{
 "cells": [
  {
   "cell_type": "markdown",
   "metadata": {
    "id": "_55E3-GVHuGx"
   },
   "source": [
    "# Get the data"
   ]
  },
  {
   "cell_type": "code",
   "execution_count": null,
   "metadata": {
    "colab": {
     "base_uri": "https://localhost:8080/"
    },
    "executionInfo": {
     "elapsed": 9281,
     "status": "ok",
     "timestamp": 1635968878736,
     "user": {
      "displayName": "Dan Waters",
      "photoUrl": "https://lh3.googleusercontent.com/a-/AOh14Gg8oyL8Sarv6twUg3wi_p2Qi8dxMbQbjA5YSSm5=s64",
      "userId": "14461703177943287613"
     },
     "user_tz": 300
    },
    "id": "TNqqoz0-HFVC",
    "outputId": "dac1640f-879d-4110-93b1-0fa1e5b15c7e"
   },
   "outputs": [
    {
     "name": "stdout",
     "output_type": "stream",
     "text": [
      "Downloading...\n",
      "From: https://drive.google.com/uc?id=1HVSazFk8m553VWPjFnZZ-YfJA_KecPea\n",
      "To: /content/translated_data_updated.zip\n",
      "100% 122M/122M [00:00<00:00, 126MB/s]\n",
      "Archive:  translated_data_updated.zip\n",
      "   creating: data_translated/\n",
      "  inflating: data_translated/coupon_visit_train.csv  \n",
      "  inflating: data_translated/coupon_list_train.csv  \n",
      "  inflating: data_translated/prefecture_locations.csv  \n",
      "  inflating: data_translated/coupon_area_test.csv  \n",
      "  inflating: data_translated/coupon_detail_train.csv  \n",
      "  inflating: data_translated/coupon_area_train.csv  \n",
      "  inflating: data_translated/user_list.csv  \n",
      "  inflating: data_translated/coupon_list_test.csv  \n"
     ]
    }
   ],
   "source": [
    "!gdown --id 1HVSazFk8m553VWPjFnZZ-YfJA_KecPea\n",
    "!unzip translated_data_updated.zip"
   ]
  },
  {
   "cell_type": "code",
   "execution_count": null,
   "metadata": {
    "id": "6zhXcytVJq1w"
   },
   "outputs": [],
   "source": [
    "# imports\n",
    "import pandas as pd\n",
    "import seaborn as sns\n",
    "import numpy as np\n",
    "import matplotlib as mpl\n",
    "import matplotlib.pyplot as plt\n",
    "\n",
    "import tensorflow as tf\n",
    "from tensorflow import keras\n",
    "import sklearn\n",
    "from sklearn.preprocessing import StandardScaler\n",
    "from sklearn.model_selection import train_test_split\n",
    "\n",
    "sns.set_theme(context='notebook', style='darkgrid')\n",
    "mpl.rcParams['figure.figsize'] = (12, 10)\n",
    "colors = plt.rcParams['axes.prop_cycle'].by_key()['color']"
   ]
  },
  {
   "cell_type": "code",
   "execution_count": null,
   "metadata": {
    "id": "66-dDHVzJ5NY"
   },
   "outputs": [],
   "source": [
    "# Important Note:\n",
    "# Visits = browsing history in the training period. No test set available. \n",
    "# Purchases = purchase history in the training period. No test set available.\n",
    "\n",
    "df_users        = pd.read_csv('data_translated/user_list.csv')\n",
    "df_c_list_train = pd.read_csv('data_translated/coupon_list_train.csv')\n",
    "df_c_list_test  = pd.read_csv('data_translated/coupon_list_test.csv')\n",
    "df_area_train   = pd.read_csv('data_translated/coupon_area_train.csv')\n",
    "df_area_test    = pd.read_csv('data_translated/coupon_area_test.csv')\n",
    "df_visit_train  = pd.read_csv('data_translated/coupon_visit_train.csv')\n",
    "df_purch_train  = pd.read_csv('data_translated/coupon_detail_train.csv')\n",
    "df_locations    = pd.read_csv('data_translated/prefecture_locations.csv')"
   ]
  },
  {
   "cell_type": "markdown",
   "metadata": {
    "id": "yGhtMkAtJEQg"
   },
   "source": [
    "## Feature Engineering\n",
    "#### User List"
   ]
  },
  {
   "cell_type": "code",
   "execution_count": null,
   "metadata": {
    "id": "35Wuqhdu4sgM"
   },
   "outputs": [],
   "source": [
    "# rename SEX_ID column, change to categorical value (0 Male, 1 Female)\n",
    "df_users['SEX'] = df_users['SEX_ID'].replace('f', 1)\n",
    "df_users['SEX'] = df_users['SEX'].replace('m', 0)"
   ]
  },
  {
   "cell_type": "code",
   "execution_count": null,
   "metadata": {
    "id": "Ekefadt28NG3"
   },
   "outputs": [],
   "source": [
    "# create a categorical variable for age group:\n",
    "# 14-21, 22-35, 36-49, 50-65, 66-75, 76-90\n",
    "def age_cat(age):\n",
    "  if age <= 21:\n",
    "    return 0\n",
    "  elif age <= 35:\n",
    "    return 1\n",
    "  elif age <= 49:\n",
    "    return 2\n",
    "  elif age <= 65:\n",
    "    return 3\n",
    "  elif age <= 75:\n",
    "    return 4\n",
    "  elif age <= 90:\n",
    "    return 5\n",
    "  else:\n",
    "    return 6\n",
    "\n",
    "lbl_age_ranges = ['14-21', '22-35', '36-49', '50-65', '66-75', '76-90'] \n",
    "\n",
    "df_users['AGE_GROUP'] = [age_cat(a) for a in df_users['AGE']]"
   ]
  },
  {
   "cell_type": "markdown",
   "metadata": {
    "id": "Vsx-v86C-J5e"
   },
   "source": [
    "#### Data Preparation for Model Training\n",
    "We will first train a simple model that takes the following features. \n",
    "- A denormalized row of users's coupon purchases, including\n",
    "  - User Gender\n",
    "  - User Age\n",
    "  - User Prefecture\n",
    "  - Coupon Genre\n",
    "  - Coupon Ken Name (Prefecture)\n",
    "  - Price Rate\n",
    "  - Catalog Price\n",
    "  - Discount Rate\n",
    "  - Ken Name\n",
    "\n",
    "This is a model-based hybrid collaborative filtering approach. "
   ]
  },
  {
   "cell_type": "code",
   "execution_count": null,
   "metadata": {
    "id": "TG3c_lHn4Ekh"
   },
   "outputs": [],
   "source": [
    "# Model Input Features\n",
    "# For each user who purchased a coupon...\n",
    "\n",
    "# Gender, Age, Prefecture, Coupon Genre, Coupon Prefecture, Price Rate, Catalog Price, Discount Rate, Ken Name\n",
    "\n",
    "#############################\n",
    "# BUILD DF_TRAIN DATAFRAME  #\n",
    "#############################\n",
    "df_visit_train = df_visit_train.rename(columns={'VIEW_COUPON_ID_hash': 'COUPON_ID_hash'})\n",
    "df_train = df_visit_train.join(df_users.set_index('USER_ID_hash'), on='USER_ID_hash', lsuffix='_v')\n",
    "df_train = df_train.join(df_c_list_train.set_index('COUPON_ID_hash'), on='COUPON_ID_hash', rsuffix='_c')"
   ]
  },
  {
   "cell_type": "code",
   "execution_count": null,
   "metadata": {
    "id": "9BAe6T5l-_Tk"
   },
   "outputs": [],
   "source": [
    "# get a subset of the training columns and rename them\n",
    "df_train = df_train[['AGE_GROUP', 'SEX', 'PREF_NAME_EN', 'KEN_NAME_EN', 'GENRE_NAME_EN', 'CAPSULE_TEXT_EN', 'PRICE_RATE', 'DISCOUNT_PRICE', 'PURCHASE_FLG']]\n",
    "df_train.columns = ['age_group', 'sex', 'user_prefecture', 'coupon_prefecture', 'genre', 'capsule', 'discount_rate', 'discount_price', 'purchased']\n",
    "# NaN preprocessing\n",
    "df_train = df_train.fillna(0)"
   ]
  },
  {
   "cell_type": "code",
   "execution_count": null,
   "metadata": {
    "colab": {
     "base_uri": "https://localhost:8080/",
     "height": 298
    },
    "executionInfo": {
     "elapsed": 222,
     "status": "ok",
     "timestamp": 1635969354745,
     "user": {
      "displayName": "Dan Waters",
      "photoUrl": "https://lh3.googleusercontent.com/a-/AOh14Gg8oyL8Sarv6twUg3wi_p2Qi8dxMbQbjA5YSSm5=s64",
      "userId": "14461703177943287613"
     },
     "user_tz": 300
    },
    "id": "aEPOxcfgGzQe",
    "outputId": "29837dde-ec0f-4249-800f-4225d0b034f6"
   },
   "outputs": [
    {
     "data": {
      "image/png": "[encoded data removed]",
      "text/plain": [
       "<Figure size 432x288 with 1 Axes>"
      ]
     },
     "metadata": {},
     "output_type": "display_data"
    },
    {
     "name": "stdout",
     "output_type": "stream",
     "text": [
      "Purchased: 122389 (4.32% of total)\n",
      "Visited but didn't purchase: 2710791\n"
     ]
    }
   ],
   "source": [
    "stats = df_train.groupby('purchased').size().to_frame().reset_index()\n",
    "stats.columns = ['purchased', 'count']\n",
    "\n",
    "fig, ax = plt.subplots()\n",
    "ax.pie(stats['count'], autopct='%.2f')\n",
    "plt.title('Extreme class imbalance in conversions to purchase')\n",
    "plt.show()\n",
    "\n",
    "pos = stats[stats['purchased'] == 1].agg('sum')['count']\n",
    "neg = stats[stats['purchased'] == 0].agg('sum')['count']\n",
    "total = pos + neg\n",
    "print(f'Purchased: {pos} ({round(pos/total * 100, 2)}% of total)')\n",
    "print(f\"Visited but didn't purchase: {neg}\")"
   ]
  },
  {
   "cell_type": "code",
   "execution_count": null,
   "metadata": {
    "colab": {
     "base_uri": "https://localhost:8080/",
     "height": 286
    },
    "executionInfo": {
     "elapsed": 3308,
     "status": "ok",
     "timestamp": 1635969422173,
     "user": {
      "displayName": "Dan Waters",
      "photoUrl": "https://lh3.googleusercontent.com/a-/AOh14Gg8oyL8Sarv6twUg3wi_p2Qi8dxMbQbjA5YSSm5=s64",
      "userId": "14461703177943287613"
     },
     "user_tz": 300
    },
    "id": "ZUtRXC58PKID",
    "outputId": "ee36b64b-6067-4984-907e-13ae4b077a26"
   },
   "outputs": [
    {
     "data": {
      "text/html": [
       "<div>\n",
       "<style scoped>\n",
       "    .dataframe tbody tr th:only-of-type {\n",
       "        vertical-align: middle;\n",
       "    }\n",
       "\n",
       "    .dataframe tbody tr th {\n",
       "        vertical-align: top;\n",
       "    }\n",
       "\n",
       "    .dataframe thead th {\n",
       "        text-align: right;\n",
       "    }\n",
       "</style>\n",
       "<table border=\"1\" class=\"dataframe\">\n",
       "  <thead>\n",
       "    <tr style=\"text-align: right;\">\n",
       "      <th></th>\n",
       "      <th>discount_rate</th>\n",
       "      <th>discount_price</th>\n",
       "      <th>purchased</th>\n",
       "      <th>age_group_0</th>\n",
       "      <th>age_group_1</th>\n",
       "      <th>age_group_2</th>\n",
       "      <th>age_group_3</th>\n",
       "      <th>age_group_4</th>\n",
       "      <th>age_group_5</th>\n",
       "      <th>sex_0</th>\n",
       "      <th>sex_1</th>\n",
       "      <th>user_prefecture_0</th>\n",
       "      <th>user_prefecture_Aichi Prefecture</th>\n",
       "      <th>user_prefecture_Akita</th>\n",
       "      <th>user_prefecture_Aomori Prefecture</th>\n",
       "      <th>user_prefecture_Chiba Prefecture</th>\n",
       "      <th>user_prefecture_Ehime Prefecture</th>\n",
       "      <th>user_prefecture_Fukui Prefecture</th>\n",
       "      <th>user_prefecture_Fukuoka Prefecture</th>\n",
       "      <th>user_prefecture_Fukushima Prefecture</th>\n",
       "      <th>user_prefecture_Gifu Prefecture</th>\n",
       "      <th>user_prefecture_Gunma Prefecture</th>\n",
       "      <th>user_prefecture_Hiroshima Prefecture</th>\n",
       "      <th>user_prefecture_Hokkaido</th>\n",
       "      <th>user_prefecture_Hyogo Prefecture</th>\n",
       "      <th>user_prefecture_Ibaraki Prefecture</th>\n",
       "      <th>user_prefecture_Ishikawa Prefecture</th>\n",
       "      <th>user_prefecture_Iwate Prefecture</th>\n",
       "      <th>user_prefecture_Kagawa Prefecture</th>\n",
       "      <th>user_prefecture_Kagoshima Prefecture</th>\n",
       "      <th>user_prefecture_Kanagawa Prefecture</th>\n",
       "      <th>user_prefecture_Kochi Prefecture</th>\n",
       "      <th>user_prefecture_Kumamoto Prefecture</th>\n",
       "      <th>user_prefecture_Kyoto</th>\n",
       "      <th>user_prefecture_Mie</th>\n",
       "      <th>user_prefecture_Miyagi Prefecture</th>\n",
       "      <th>user_prefecture_Miyazaki Prefecture</th>\n",
       "      <th>user_prefecture_Nagano Prefecture</th>\n",
       "      <th>user_prefecture_Nagasaki Prefecture</th>\n",
       "      <th>user_prefecture_Nara Prefecture</th>\n",
       "      <th>...</th>\n",
       "      <th>coupon_prefecture_Yamanashi Prefecture</th>\n",
       "      <th>genre_0</th>\n",
       "      <th>genre_Beauty</th>\n",
       "      <th>genre_Class</th>\n",
       "      <th>genre_Delivery service</th>\n",
       "      <th>genre_Gift Card</th>\n",
       "      <th>genre_Gourmet dining</th>\n",
       "      <th>genre_Hair salon</th>\n",
       "      <th>genre_Health and medical</th>\n",
       "      <th>genre_Hotels and inns</th>\n",
       "      <th>genre_Leisure</th>\n",
       "      <th>genre_Nail and eye salon</th>\n",
       "      <th>genre_Other coupons</th>\n",
       "      <th>genre_Relaxation</th>\n",
       "      <th>genre_Spa</th>\n",
       "      <th>capsule_0</th>\n",
       "      <th>capsule_Beauty</th>\n",
       "      <th>capsule_Class</th>\n",
       "      <th>capsule_Correspondence course</th>\n",
       "      <th>capsule_Delivery service</th>\n",
       "      <th>capsule_Event</th>\n",
       "      <th>capsule_Gift card</th>\n",
       "      <th>capsule_Guest house</th>\n",
       "      <th>capsule_Hair salon</th>\n",
       "      <th>capsule_Health / medical</th>\n",
       "      <th>capsule_Hotel</th>\n",
       "      <th>capsule_Japanese guest house</th>\n",
       "      <th>capsule_Japanese inn</th>\n",
       "      <th>capsule_Leisure</th>\n",
       "      <th>capsule_Lesson</th>\n",
       "      <th>capsule_Lodge</th>\n",
       "      <th>capsule_Nail and eye salon</th>\n",
       "      <th>capsule_Other coupon</th>\n",
       "      <th>capsule_Public inn</th>\n",
       "      <th>capsule_Relaxation</th>\n",
       "      <th>capsule_Resort inn</th>\n",
       "      <th>capsule_Restaurant</th>\n",
       "      <th>capsule_Spa</th>\n",
       "      <th>capsule_Vacation rental</th>\n",
       "      <th>capsule_Web service</th>\n",
       "    </tr>\n",
       "  </thead>\n",
       "  <tbody>\n",
       "    <tr>\n",
       "      <th>0</th>\n",
       "      <td>78.0</td>\n",
       "      <td>1575.0</td>\n",
       "      <td>0</td>\n",
       "      <td>0</td>\n",
       "      <td>1</td>\n",
       "      <td>0</td>\n",
       "      <td>0</td>\n",
       "      <td>0</td>\n",
       "      <td>0</td>\n",
       "      <td>0</td>\n",
       "      <td>1</td>\n",
       "      <td>1</td>\n",
       "      <td>0</td>\n",
       "      <td>0</td>\n",
       "      <td>0</td>\n",
       "      <td>0</td>\n",
       "      <td>0</td>\n",
       "      <td>0</td>\n",
       "      <td>0</td>\n",
       "      <td>0</td>\n",
       "      <td>0</td>\n",
       "      <td>0</td>\n",
       "      <td>0</td>\n",
       "      <td>0</td>\n",
       "      <td>0</td>\n",
       "      <td>0</td>\n",
       "      <td>0</td>\n",
       "      <td>0</td>\n",
       "      <td>0</td>\n",
       "      <td>0</td>\n",
       "      <td>0</td>\n",
       "      <td>0</td>\n",
       "      <td>0</td>\n",
       "      <td>0</td>\n",
       "      <td>0</td>\n",
       "      <td>0</td>\n",
       "      <td>0</td>\n",
       "      <td>0</td>\n",
       "      <td>0</td>\n",
       "      <td>0</td>\n",
       "      <td>...</td>\n",
       "      <td>0</td>\n",
       "      <td>0</td>\n",
       "      <td>0</td>\n",
       "      <td>0</td>\n",
       "      <td>1</td>\n",
       "      <td>0</td>\n",
       "      <td>0</td>\n",
       "      <td>0</td>\n",
       "      <td>0</td>\n",
       "      <td>0</td>\n",
       "      <td>0</td>\n",
       "      <td>0</td>\n",
       "      <td>0</td>\n",
       "      <td>0</td>\n",
       "      <td>0</td>\n",
       "      <td>0</td>\n",
       "      <td>0</td>\n",
       "      <td>0</td>\n",
       "      <td>0</td>\n",
       "      <td>1</td>\n",
       "      <td>0</td>\n",
       "      <td>0</td>\n",
       "      <td>0</td>\n",
       "      <td>0</td>\n",
       "      <td>0</td>\n",
       "      <td>0</td>\n",
       "      <td>0</td>\n",
       "      <td>0</td>\n",
       "      <td>0</td>\n",
       "      <td>0</td>\n",
       "      <td>0</td>\n",
       "      <td>0</td>\n",
       "      <td>0</td>\n",
       "      <td>0</td>\n",
       "      <td>0</td>\n",
       "      <td>0</td>\n",
       "      <td>0</td>\n",
       "      <td>0</td>\n",
       "      <td>0</td>\n",
       "      <td>0</td>\n",
       "    </tr>\n",
       "    <tr>\n",
       "      <th>1</th>\n",
       "      <td>78.0</td>\n",
       "      <td>1575.0</td>\n",
       "      <td>0</td>\n",
       "      <td>0</td>\n",
       "      <td>1</td>\n",
       "      <td>0</td>\n",
       "      <td>0</td>\n",
       "      <td>0</td>\n",
       "      <td>0</td>\n",
       "      <td>0</td>\n",
       "      <td>1</td>\n",
       "      <td>1</td>\n",
       "      <td>0</td>\n",
       "      <td>0</td>\n",
       "      <td>0</td>\n",
       "      <td>0</td>\n",
       "      <td>0</td>\n",
       "      <td>0</td>\n",
       "      <td>0</td>\n",
       "      <td>0</td>\n",
       "      <td>0</td>\n",
       "      <td>0</td>\n",
       "      <td>0</td>\n",
       "      <td>0</td>\n",
       "      <td>0</td>\n",
       "      <td>0</td>\n",
       "      <td>0</td>\n",
       "      <td>0</td>\n",
       "      <td>0</td>\n",
       "      <td>0</td>\n",
       "      <td>0</td>\n",
       "      <td>0</td>\n",
       "      <td>0</td>\n",
       "      <td>0</td>\n",
       "      <td>0</td>\n",
       "      <td>0</td>\n",
       "      <td>0</td>\n",
       "      <td>0</td>\n",
       "      <td>0</td>\n",
       "      <td>0</td>\n",
       "      <td>...</td>\n",
       "      <td>0</td>\n",
       "      <td>0</td>\n",
       "      <td>0</td>\n",
       "      <td>0</td>\n",
       "      <td>1</td>\n",
       "      <td>0</td>\n",
       "      <td>0</td>\n",
       "      <td>0</td>\n",
       "      <td>0</td>\n",
       "      <td>0</td>\n",
       "      <td>0</td>\n",
       "      <td>0</td>\n",
       "      <td>0</td>\n",
       "      <td>0</td>\n",
       "      <td>0</td>\n",
       "      <td>0</td>\n",
       "      <td>0</td>\n",
       "      <td>0</td>\n",
       "      <td>0</td>\n",
       "      <td>1</td>\n",
       "      <td>0</td>\n",
       "      <td>0</td>\n",
       "      <td>0</td>\n",
       "      <td>0</td>\n",
       "      <td>0</td>\n",
       "      <td>0</td>\n",
       "      <td>0</td>\n",
       "      <td>0</td>\n",
       "      <td>0</td>\n",
       "      <td>0</td>\n",
       "      <td>0</td>\n",
       "      <td>0</td>\n",
       "      <td>0</td>\n",
       "      <td>0</td>\n",
       "      <td>0</td>\n",
       "      <td>0</td>\n",
       "      <td>0</td>\n",
       "      <td>0</td>\n",
       "      <td>0</td>\n",
       "      <td>0</td>\n",
       "    </tr>\n",
       "    <tr>\n",
       "      <th>2</th>\n",
       "      <td>66.0</td>\n",
       "      <td>1480.0</td>\n",
       "      <td>0</td>\n",
       "      <td>0</td>\n",
       "      <td>1</td>\n",
       "      <td>0</td>\n",
       "      <td>0</td>\n",
       "      <td>0</td>\n",
       "      <td>0</td>\n",
       "      <td>0</td>\n",
       "      <td>1</td>\n",
       "      <td>1</td>\n",
       "      <td>0</td>\n",
       "      <td>0</td>\n",
       "      <td>0</td>\n",
       "      <td>0</td>\n",
       "      <td>0</td>\n",
       "      <td>0</td>\n",
       "      <td>0</td>\n",
       "      <td>0</td>\n",
       "      <td>0</td>\n",
       "      <td>0</td>\n",
       "      <td>0</td>\n",
       "      <td>0</td>\n",
       "      <td>0</td>\n",
       "      <td>0</td>\n",
       "      <td>0</td>\n",
       "      <td>0</td>\n",
       "      <td>0</td>\n",
       "      <td>0</td>\n",
       "      <td>0</td>\n",
       "      <td>0</td>\n",
       "      <td>0</td>\n",
       "      <td>0</td>\n",
       "      <td>0</td>\n",
       "      <td>0</td>\n",
       "      <td>0</td>\n",
       "      <td>0</td>\n",
       "      <td>0</td>\n",
       "      <td>0</td>\n",
       "      <td>...</td>\n",
       "      <td>0</td>\n",
       "      <td>0</td>\n",
       "      <td>0</td>\n",
       "      <td>0</td>\n",
       "      <td>1</td>\n",
       "      <td>0</td>\n",
       "      <td>0</td>\n",
       "      <td>0</td>\n",
       "      <td>0</td>\n",
       "      <td>0</td>\n",
       "      <td>0</td>\n",
       "      <td>0</td>\n",
       "      <td>0</td>\n",
       "      <td>0</td>\n",
       "      <td>0</td>\n",
       "      <td>0</td>\n",
       "      <td>0</td>\n",
       "      <td>0</td>\n",
       "      <td>0</td>\n",
       "      <td>1</td>\n",
       "      <td>0</td>\n",
       "      <td>0</td>\n",
       "      <td>0</td>\n",
       "      <td>0</td>\n",
       "      <td>0</td>\n",
       "      <td>0</td>\n",
       "      <td>0</td>\n",
       "      <td>0</td>\n",
       "      <td>0</td>\n",
       "      <td>0</td>\n",
       "      <td>0</td>\n",
       "      <td>0</td>\n",
       "      <td>0</td>\n",
       "      <td>0</td>\n",
       "      <td>0</td>\n",
       "      <td>0</td>\n",
       "      <td>0</td>\n",
       "      <td>0</td>\n",
       "      <td>0</td>\n",
       "      <td>0</td>\n",
       "    </tr>\n",
       "    <tr>\n",
       "      <th>3</th>\n",
       "      <td>80.0</td>\n",
       "      <td>1990.0</td>\n",
       "      <td>0</td>\n",
       "      <td>0</td>\n",
       "      <td>1</td>\n",
       "      <td>0</td>\n",
       "      <td>0</td>\n",
       "      <td>0</td>\n",
       "      <td>0</td>\n",
       "      <td>0</td>\n",
       "      <td>1</td>\n",
       "      <td>1</td>\n",
       "      <td>0</td>\n",
       "      <td>0</td>\n",
       "      <td>0</td>\n",
       "      <td>0</td>\n",
       "      <td>0</td>\n",
       "      <td>0</td>\n",
       "      <td>0</td>\n",
       "      <td>0</td>\n",
       "      <td>0</td>\n",
       "      <td>0</td>\n",
       "      <td>0</td>\n",
       "      <td>0</td>\n",
       "      <td>0</td>\n",
       "      <td>0</td>\n",
       "      <td>0</td>\n",
       "      <td>0</td>\n",
       "      <td>0</td>\n",
       "      <td>0</td>\n",
       "      <td>0</td>\n",
       "      <td>0</td>\n",
       "      <td>0</td>\n",
       "      <td>0</td>\n",
       "      <td>0</td>\n",
       "      <td>0</td>\n",
       "      <td>0</td>\n",
       "      <td>0</td>\n",
       "      <td>0</td>\n",
       "      <td>0</td>\n",
       "      <td>...</td>\n",
       "      <td>0</td>\n",
       "      <td>0</td>\n",
       "      <td>0</td>\n",
       "      <td>0</td>\n",
       "      <td>1</td>\n",
       "      <td>0</td>\n",
       "      <td>0</td>\n",
       "      <td>0</td>\n",
       "      <td>0</td>\n",
       "      <td>0</td>\n",
       "      <td>0</td>\n",
       "      <td>0</td>\n",
       "      <td>0</td>\n",
       "      <td>0</td>\n",
       "      <td>0</td>\n",
       "      <td>0</td>\n",
       "      <td>0</td>\n",
       "      <td>0</td>\n",
       "      <td>0</td>\n",
       "      <td>1</td>\n",
       "      <td>0</td>\n",
       "      <td>0</td>\n",
       "      <td>0</td>\n",
       "      <td>0</td>\n",
       "      <td>0</td>\n",
       "      <td>0</td>\n",
       "      <td>0</td>\n",
       "      <td>0</td>\n",
       "      <td>0</td>\n",
       "      <td>0</td>\n",
       "      <td>0</td>\n",
       "      <td>0</td>\n",
       "      <td>0</td>\n",
       "      <td>0</td>\n",
       "      <td>0</td>\n",
       "      <td>0</td>\n",
       "      <td>0</td>\n",
       "      <td>0</td>\n",
       "      <td>0</td>\n",
       "      <td>0</td>\n",
       "    </tr>\n",
       "    <tr>\n",
       "      <th>4</th>\n",
       "      <td>85.0</td>\n",
       "      <td>4980.0</td>\n",
       "      <td>0</td>\n",
       "      <td>0</td>\n",
       "      <td>1</td>\n",
       "      <td>0</td>\n",
       "      <td>0</td>\n",
       "      <td>0</td>\n",
       "      <td>0</td>\n",
       "      <td>0</td>\n",
       "      <td>1</td>\n",
       "      <td>1</td>\n",
       "      <td>0</td>\n",
       "      <td>0</td>\n",
       "      <td>0</td>\n",
       "      <td>0</td>\n",
       "      <td>0</td>\n",
       "      <td>0</td>\n",
       "      <td>0</td>\n",
       "      <td>0</td>\n",
       "      <td>0</td>\n",
       "      <td>0</td>\n",
       "      <td>0</td>\n",
       "      <td>0</td>\n",
       "      <td>0</td>\n",
       "      <td>0</td>\n",
       "      <td>0</td>\n",
       "      <td>0</td>\n",
       "      <td>0</td>\n",
       "      <td>0</td>\n",
       "      <td>0</td>\n",
       "      <td>0</td>\n",
       "      <td>0</td>\n",
       "      <td>0</td>\n",
       "      <td>0</td>\n",
       "      <td>0</td>\n",
       "      <td>0</td>\n",
       "      <td>0</td>\n",
       "      <td>0</td>\n",
       "      <td>0</td>\n",
       "      <td>...</td>\n",
       "      <td>0</td>\n",
       "      <td>0</td>\n",
       "      <td>0</td>\n",
       "      <td>0</td>\n",
       "      <td>1</td>\n",
       "      <td>0</td>\n",
       "      <td>0</td>\n",
       "      <td>0</td>\n",
       "      <td>0</td>\n",
       "      <td>0</td>\n",
       "      <td>0</td>\n",
       "      <td>0</td>\n",
       "      <td>0</td>\n",
       "      <td>0</td>\n",
       "      <td>0</td>\n",
       "      <td>0</td>\n",
       "      <td>0</td>\n",
       "      <td>0</td>\n",
       "      <td>0</td>\n",
       "      <td>1</td>\n",
       "      <td>0</td>\n",
       "      <td>0</td>\n",
       "      <td>0</td>\n",
       "      <td>0</td>\n",
       "      <td>0</td>\n",
       "      <td>0</td>\n",
       "      <td>0</td>\n",
       "      <td>0</td>\n",
       "      <td>0</td>\n",
       "      <td>0</td>\n",
       "      <td>0</td>\n",
       "      <td>0</td>\n",
       "      <td>0</td>\n",
       "      <td>0</td>\n",
       "      <td>0</td>\n",
       "      <td>0</td>\n",
       "      <td>0</td>\n",
       "      <td>0</td>\n",
       "      <td>0</td>\n",
       "      <td>0</td>\n",
       "    </tr>\n",
       "  </tbody>\n",
       "</table>\n",
       "<p>5 rows × 146 columns</p>\n",
       "</div>"
      ],
      "text/plain": [
       "   discount_rate  discount_price  ...  capsule_Vacation rental  capsule_Web service\n",
       "0           78.0          1575.0  ...                        0                    0\n",
       "1           78.0          1575.0  ...                        0                    0\n",
       "2           66.0          1480.0  ...                        0                    0\n",
       "3           80.0          1990.0  ...                        0                    0\n",
       "4           85.0          4980.0  ...                        0                    0\n",
       "\n",
       "[5 rows x 146 columns]"
      ]
     },
     "execution_count": 23,
     "metadata": {},
     "output_type": "execute_result"
    }
   ],
   "source": [
    "# one-hot encode training data categorical columns \n",
    "df_train_enc = pd.get_dummies(df_train, columns=['age_group', 'sex', 'user_prefecture', 'coupon_prefecture', 'genre', 'capsule'])\n",
    "df_train_enc.head(5)"
   ]
  },
  {
   "cell_type": "code",
   "execution_count": null,
   "metadata": {
    "id": "O9Qu13J_T5sP"
   },
   "outputs": [],
   "source": []
  },
  {
   "cell_type": "code",
   "execution_count": null,
   "metadata": {
    "id": "9HakaMKaUioJ"
   },
   "outputs": [],
   "source": [
    "# Train test split with stratified sampling on the positive class. \n",
    "# Make sure each set has the same (though very small) ratio of positive instances\n",
    "df_training, df_test = train_test_split(df_train_enc, test_size=0.2, stratify=df_train_enc['purchased'])\n",
    "df_training, df_validation = train_test_split(df_training, test_size=0.2, stratify=df_training['purchased'])\n",
    "\n",
    "train_labels = np.array(df_training.pop('purchased'))\n",
    "val_labels = np.array(df_validation.pop('purchased'))\n",
    "test_labels = np.array(df_test.pop('purchased'))\n",
    "\n",
    "train_features = np.array(df_training)\n",
    "val_features = np.array(df_validation)\n",
    "test_features = np.array(df_test)"
   ]
  },
  {
   "cell_type": "code",
   "execution_count": null,
   "metadata": {
    "id": "qz9zaVCxVrHZ"
   },
   "outputs": [],
   "source": [
    "# Normalize the input features using StandardScaler to mitigate class imbalance\n",
    "# Only *fit* the scaler on the training data, but transform the other two sets.\n",
    "scaler = StandardScaler()\n",
    "train_features = scaler.fit_transform(train_features)\n",
    "val_features = scaler.transform(val_features)\n",
    "test_features = scaler.transform(test_features)"
   ]
  },
  {
   "cell_type": "code",
   "execution_count": null,
   "metadata": {
    "colab": {
     "base_uri": "https://localhost:8080/"
    },
    "executionInfo": {
     "elapsed": 95,
     "status": "ok",
     "timestamp": 1635969581886,
     "user": {
      "displayName": "Dan Waters",
      "photoUrl": "https://lh3.googleusercontent.com/a-/AOh14Gg8oyL8Sarv6twUg3wi_p2Qi8dxMbQbjA5YSSm5=s64",
      "userId": "14461703177943287613"
     },
     "user_tz": 300
    },
    "id": "FRx0RwQ5WPQA",
    "outputId": "2af755b4-059e-4a97-9091-7e3e6adef248"
   },
   "outputs": [
    {
     "name": "stdout",
     "output_type": "stream",
     "text": [
      "Train features shape: (1813235, 145)\n",
      "Validation features shape: (453309, 145)\n",
      "Test features shape: (566636, 145)\n",
      "Train labels shape: (1813235,)\n",
      "Validation labels shape: (453309,)\n",
      "Test labels shape: (566636,)\n",
      "Train columns: Index(['discount_rate', 'discount_price', 'age_group_0', 'age_group_1',\n",
      "       'age_group_2', 'age_group_3', 'age_group_4', 'age_group_5', 'sex_0',\n",
      "       'sex_1',\n",
      "       ...\n",
      "       'capsule_Lodge', 'capsule_Nail and eye salon', 'capsule_Other coupon',\n",
      "       'capsule_Public inn', 'capsule_Relaxation', 'capsule_Resort inn',\n",
      "       'capsule_Restaurant', 'capsule_Spa', 'capsule_Vacation rental',\n",
      "       'capsule_Web service'],\n",
      "      dtype='object', length=145) (len: 145\n"
     ]
    }
   ],
   "source": [
    "print(f'Train features shape: {train_features.shape}')\n",
    "print(f'Validation features shape: {val_features.shape}')\n",
    "print(f'Test features shape: {test_features.shape}')\n",
    "print(f'Train labels shape: {train_labels.shape}')\n",
    "print(f'Validation labels shape: {val_labels.shape}')\n",
    "print(f'Test labels shape: {test_labels.shape}')\n",
    "\n",
    "print(f'Train columns: {df_training.columns} (len: {len(df_training.columns)}')"
   ]
  },
  {
   "cell_type": "code",
   "execution_count": null,
   "metadata": {
    "id": "asBPf6R0WnMc"
   },
   "outputs": [],
   "source": [
    "# Build a binary classification model\n",
    "METRICS = [\n",
    "      keras.metrics.Precision(name='precision'),\n",
    "      keras.metrics.TruePositives(name='tp'),\n",
    "      keras.metrics.FalsePositives(name='fp'),\n",
    "      keras.metrics.TrueNegatives(name='tn'),\n",
    "      keras.metrics.FalseNegatives(name='fn'), \n",
    "      keras.metrics.BinaryAccuracy(name='accuracy'),\n",
    "      keras.metrics.Recall(name='recall'),\n",
    "      keras.metrics.AUC(name='auc'),\n",
    "      keras.metrics.AUC(name='prc', curve='PR'), # precision-recall curve\n",
    "]\n",
    "\n",
    "def make_model(metrics=METRICS, output_bias=None):\n",
    "  if output_bias is not None:\n",
    "    output_bias = tf.keras.initializers.Constant(output_bias)\n",
    "\n",
    "  model = keras.Sequential([\n",
    "      keras.layers.Dense(16, activation='relu', \n",
    "                         input_shape=(train_features.shape[-1],)),\n",
    "      keras.layers.Dropout(0.2),\n",
    "      keras.layers.Dense(16, activation='relu'),\n",
    "      keras.layers.Dropout(0.2),\n",
    "      keras.layers.Dense(1, activation='sigmoid',\n",
    "                         bias_initializer=output_bias),\n",
    "  ])\n",
    "\n",
    "  model.compile(\n",
    "      optimizer=keras.optimizers.Adam(learning_rate=1e-3),\n",
    "      loss=keras.losses.BinaryCrossentropy(),\n",
    "      metrics=metrics)\n",
    "\n",
    "  return model"
   ]
  },
  {
   "cell_type": "code",
   "execution_count": null,
   "metadata": {
    "colab": {
     "base_uri": "https://localhost:8080/"
    },
    "executionInfo": {
     "elapsed": 205,
     "status": "ok",
     "timestamp": 1635970187542,
     "user": {
      "displayName": "Dan Waters",
      "photoUrl": "https://lh3.googleusercontent.com/a-/AOh14Gg8oyL8Sarv6twUg3wi_p2Qi8dxMbQbjA5YSSm5=s64",
      "userId": "14461703177943287613"
     },
     "user_tz": 300
    },
    "id": "7UGnC88pW4ON",
    "outputId": "9d7f1164-f9cb-4baf-988f-de789592e7d4"
   },
   "outputs": [
    {
     "name": "stdout",
     "output_type": "stream",
     "text": [
      "Model: \"sequential_3\"\n",
      "_________________________________________________________________\n",
      "Layer (type)                 Output Shape              Param #   \n",
      "=================================================================\n",
      "dense_9 (Dense)              (None, 16)                2336      \n",
      "_________________________________________________________________\n",
      "dropout_6 (Dropout)          (None, 16)                0         \n",
      "_________________________________________________________________\n",
      "dense_10 (Dense)             (None, 16)                272       \n",
      "_________________________________________________________________\n",
      "dropout_7 (Dropout)          (None, 16)                0         \n",
      "_________________________________________________________________\n",
      "dense_11 (Dense)             (None, 1)                 17        \n",
      "=================================================================\n",
      "Total params: 2,625\n",
      "Trainable params: 2,625\n",
      "Non-trainable params: 0\n",
      "_________________________________________________________________\n"
     ]
    }
   ],
   "source": [
    "# build the untrained model\n",
    "EPOCHS = 100\n",
    "BATCH_SIZE = 2048\n",
    "\n",
    "# early stopping\n",
    "early_stopping = tf.keras.callbacks.EarlyStopping(\n",
    "    monitor='val_prc', \n",
    "    verbose=1,\n",
    "    patience=10,\n",
    "    mode='max',\n",
    "    restore_best_weights=True)\n",
    "\n",
    "model = make_model()\n",
    "model.summary()"
   ]
  },
  {
   "cell_type": "code",
   "execution_count": null,
   "metadata": {
    "colab": {
     "base_uri": "https://localhost:8080/"
    },
    "executionInfo": {
     "elapsed": 204,
     "status": "ok",
     "timestamp": 1635970190016,
     "user": {
      "displayName": "Dan Waters",
      "photoUrl": "https://lh3.googleusercontent.com/a-/AOh14Gg8oyL8Sarv6twUg3wi_p2Qi8dxMbQbjA5YSSm5=s64",
      "userId": "14461703177943287613"
     },
     "user_tz": 300
    },
    "id": "ouYCCZI6aN4r",
    "outputId": "9675d632-ce4b-4c6e-80a5-beac09922f46"
   },
   "outputs": [
    {
     "data": {
      "text/plain": [
       "array([[0.78800064],\n",
       "       [0.7660615 ],\n",
       "       [0.7773887 ],\n",
       "       [0.771608  ],\n",
       "       [0.80279243],\n",
       "       [0.72266585],\n",
       "       [0.66574454],\n",
       "       [0.4658518 ],\n",
       "       [0.7539464 ],\n",
       "       [0.73523104]], dtype=float32)"
      ]
     },
     "execution_count": 37,
     "metadata": {},
     "output_type": "execute_result"
    }
   ],
   "source": [
    "# test run with no training - these weights should be unrealistically high\n",
    "model.predict(train_features[:10])"
   ]
  },
  {
   "cell_type": "code",
   "execution_count": null,
   "metadata": {
    "colab": {
     "base_uri": "https://localhost:8080/"
    },
    "executionInfo": {
     "elapsed": 5647,
     "status": "ok",
     "timestamp": 1635970197242,
     "user": {
      "displayName": "Dan Waters",
      "photoUrl": "https://lh3.googleusercontent.com/a-/AOh14Gg8oyL8Sarv6twUg3wi_p2Qi8dxMbQbjA5YSSm5=s64",
      "userId": "14461703177943287613"
     },
     "user_tz": 300
    },
    "id": "OMBn4X5la7GA",
    "outputId": "9696119b-58b4-4a1b-a5b2-24e8523bd2c4"
   },
   "outputs": [
    {
     "name": "stdout",
     "output_type": "stream",
     "text": [
      "Loss with naive bias initialization: 1.2691\n"
     ]
    }
   ],
   "source": [
    "results = model.evaluate(train_features, train_labels, batch_size=BATCH_SIZE, verbose=0)\n",
    "print(\"Loss with naive bias initialization: {:0.4f}\".format(results[0]))"
   ]
  },
  {
   "cell_type": "code",
   "execution_count": null,
   "metadata": {
    "colab": {
     "base_uri": "https://localhost:8080/"
    },
    "executionInfo": {
     "elapsed": 236,
     "status": "ok",
     "timestamp": 1635970210417,
     "user": {
      "displayName": "Dan Waters",
      "photoUrl": "https://lh3.googleusercontent.com/a-/AOh14Gg8oyL8Sarv6twUg3wi_p2Qi8dxMbQbjA5YSSm5=s64",
      "userId": "14461703177943287613"
     },
     "user_tz": 300
    },
    "id": "7IMy0NXAaUtn",
    "outputId": "12468e69-6031-45e2-cda1-85b255102afc"
   },
   "outputs": [
    {
     "data": {
      "text/plain": [
       "array([[0.11360571],\n",
       "       [0.05527395],\n",
       "       [0.08539504],\n",
       "       [0.07177296],\n",
       "       [0.10174784],\n",
       "       [0.06554922],\n",
       "       [0.04680771],\n",
       "       [0.04310331],\n",
       "       [0.08703664],\n",
       "       [0.06663606]], dtype=float32)"
      ]
     },
     "execution_count": 39,
     "metadata": {},
     "output_type": "execute_result"
    }
   ],
   "source": [
    "# set a slightly smarter initial bias to improve learning\n",
    "# these weights should be much more reasonable\n",
    "initial_bias = np.log([pos/neg])\n",
    "model = make_model(output_bias=initial_bias)\n",
    "model.predict(train_features[:10])"
   ]
  },
  {
   "cell_type": "code",
   "execution_count": null,
   "metadata": {
    "colab": {
     "base_uri": "https://localhost:8080/"
    },
    "executionInfo": {
     "elapsed": 7947,
     "status": "ok",
     "timestamp": 1635970424907,
     "user": {
      "displayName": "Dan Waters",
      "photoUrl": "https://lh3.googleusercontent.com/a-/AOh14Gg8oyL8Sarv6twUg3wi_p2Qi8dxMbQbjA5YSSm5=s64",
      "userId": "14461703177943287613"
     },
     "user_tz": 300
    },
    "id": "Jgg7PmnPaxk6",
    "outputId": "7232d747-e6c2-492f-a7e9-39667a0eeccb"
   },
   "outputs": [
    {
     "name": "stdout",
     "output_type": "stream",
     "text": [
      "Loss with careful bias init (should be way better): 0.1996\n"
     ]
    }
   ],
   "source": [
    "results = model.evaluate(train_features, train_labels, batch_size=BATCH_SIZE, verbose=0)\n",
    "print(\"Loss with careful bias init (should be way better): {:0.4f}\".format(results[0]))\n",
    "# save the initial weights for better training\n",
    "model.save_weights('initial_weights')"
   ]
  },
  {
   "cell_type": "code",
   "execution_count": null,
   "metadata": {
    "id": "cRmzG5bSellI"
   },
   "outputs": [],
   "source": [
    "# Compare model losses with and without bias initialization\n",
    "def plot_loss(history, label, n):\n",
    "  # Use a log scale on y-axis to show the wide range of values.\n",
    "  plt.semilogy(history.epoch, history.history['loss'],\n",
    "               color=colors[n], label='Train ' + label)\n",
    "  plt.semilogy(history.epoch, history.history['val_loss'],\n",
    "               color=colors[n], label='Val ' + label,\n",
    "               linestyle=\"--\")\n",
    "  plt.legend()\n",
    "  plt.xlabel('Epoch')\n",
    "  plt.ylabel('Loss')"
   ]
  },
  {
   "cell_type": "code",
   "execution_count": null,
   "metadata": {
    "colab": {
     "base_uri": "https://localhost:8080/",
     "height": 330
    },
    "executionInfo": {
     "elapsed": 291069,
     "status": "error",
     "timestamp": 1635970888781,
     "user": {
      "displayName": "Dan Waters",
      "photoUrl": "https://lh3.googleusercontent.com/a-/AOh14Gg8oyL8Sarv6twUg3wi_p2Qi8dxMbQbjA5YSSm5=s64",
      "userId": "14461703177943287613"
     },
     "user_tz": 300
    },
    "id": "ZzJy0iBgcHpc",
    "outputId": "365cfa1b-c2c8-4c65-b037-eb88801ff362"
   },
   "outputs": [
    {
     "ename": "NameError",
     "evalue": "ignored",
     "output_type": "error",
     "traceback": [
      "\u001b[0;31m---------------------------------------------------------------------------\u001b[0m",
      "\u001b[0;31mNameError\u001b[0m                                 Traceback (most recent call last)",
      "\u001b[0;32m<ipython-input-42-f4d209eaf678>\u001b[0m in \u001b[0;36m<module>\u001b[0;34m()\u001b[0m\n\u001b[1;32m     33\u001b[0m     verbose=0)\n\u001b[1;32m     34\u001b[0m \u001b[0;34m\u001b[0m\u001b[0m\n\u001b[0;32m---> 35\u001b[0;31m \u001b[0mplot_loss\u001b[0m\u001b[0;34m(\u001b[0m\u001b[0mzero_bias_history\u001b[0m\u001b[0;34m,\u001b[0m \u001b[0;34m\"Zero Bias\"\u001b[0m\u001b[0;34m,\u001b[0m \u001b[0;36m0\u001b[0m\u001b[0;34m)\u001b[0m\u001b[0;34m\u001b[0m\u001b[0;34m\u001b[0m\u001b[0m\n\u001b[0m\u001b[1;32m     36\u001b[0m \u001b[0mplot_loss\u001b[0m\u001b[0;34m(\u001b[0m\u001b[0mcareful_bias_history\u001b[0m\u001b[0;34m,\u001b[0m \u001b[0;34m\"Careful Bias\"\u001b[0m\u001b[0;34m,\u001b[0m \u001b[0;36m1\u001b[0m\u001b[0;34m)\u001b[0m\u001b[0;34m\u001b[0m\u001b[0;34m\u001b[0m\u001b[0m\n",
      "\u001b[0;32m<ipython-input-42-f4d209eaf678>\u001b[0m in \u001b[0;36mplot_loss\u001b[0;34m(history, label, n)\u001b[0m\n\u001b[1;32m      3\u001b[0m   \u001b[0;31m# Use a log scale on y-axis to show the wide range of values.\u001b[0m\u001b[0;34m\u001b[0m\u001b[0;34m\u001b[0m\u001b[0;34m\u001b[0m\u001b[0m\n\u001b[1;32m      4\u001b[0m   plt.semilogy(history.epoch, history.history['loss'],\n\u001b[0;32m----> 5\u001b[0;31m                color=colors[n], label='Train ' + label)\n\u001b[0m\u001b[1;32m      6\u001b[0m   plt.semilogy(history.epoch, history.history['val_loss'],\n\u001b[1;32m      7\u001b[0m                \u001b[0mcolor\u001b[0m\u001b[0;34m=\u001b[0m\u001b[0mcolors\u001b[0m\u001b[0;34m[\u001b[0m\u001b[0mn\u001b[0m\u001b[0;34m]\u001b[0m\u001b[0;34m,\u001b[0m \u001b[0mlabel\u001b[0m\u001b[0;34m=\u001b[0m\u001b[0;34m'Val '\u001b[0m \u001b[0;34m+\u001b[0m \u001b[0mlabel\u001b[0m\u001b[0;34m,\u001b[0m\u001b[0;34m\u001b[0m\u001b[0;34m\u001b[0m\u001b[0m\n",
      "\u001b[0;31mNameError\u001b[0m: name 'colors' is not defined"
     ]
    }
   ],
   "source": [
    "# naive bias @ 20 epochs\n",
    "model = make_model()\n",
    "model.load_weights('initial_weights')\n",
    "model.layers[-1].bias.assign([0.0])\n",
    "zero_bias_history = model.fit(\n",
    "    train_features,\n",
    "    train_labels,\n",
    "    batch_size=BATCH_SIZE,\n",
    "    epochs=20,\n",
    "    validation_data=(val_features, val_labels), \n",
    "    verbose=0)\n",
    "\n",
    "# careful bias @ 20 epochs\n",
    "model = make_model()\n",
    "model.load_weights('initial_weights')\n",
    "careful_bias_history = model.fit(\n",
    "    train_features,\n",
    "    train_labels,\n",
    "    batch_size=BATCH_SIZE,\n",
    "    epochs=20,\n",
    "    validation_data=(val_features, val_labels), \n",
    "    verbose=0)"
   ]
  },
  {
   "cell_type": "code",
   "execution_count": null,
   "metadata": {
    "colab": {
     "base_uri": "https://localhost:8080/",
     "height": 611
    },
    "executionInfo": {
     "elapsed": 842,
     "status": "ok",
     "timestamp": 1635971137401,
     "user": {
      "displayName": "Dan Waters",
      "photoUrl": "https://lh3.googleusercontent.com/a-/AOh14Gg8oyL8Sarv6twUg3wi_p2Qi8dxMbQbjA5YSSm5=s64",
      "userId": "14461703177943287613"
     },
     "user_tz": 300
    },
    "id": "V6BwFNKDeeId",
    "outputId": "81a131ae-6464-4886-ecb5-4abc461f39f9"
   },
   "outputs": [
    {
     "data": {
      "image/png": "[encoded data removed]",
      "text/plain": [
       "<Figure size 864x720 with 1 Axes>"
      ]
     },
     "metadata": {},
     "output_type": "display_data"
    }
   ],
   "source": [
    "plot_loss(zero_bias_history, \"Zero Bias\", 0)\n",
    "plot_loss(careful_bias_history, \"Careful Bias\", 1)"
   ]
  },
  {
   "cell_type": "code",
   "execution_count": null,
   "metadata": {
    "colab": {
     "base_uri": "https://localhost:8080/"
    },
    "executionInfo": {
     "elapsed": 98,
     "status": "ok",
     "timestamp": 1635971560876,
     "user": {
      "displayName": "Dan Waters",
      "photoUrl": "https://lh3.googleusercontent.com/a-/AOh14Gg8oyL8Sarv6twUg3wi_p2Qi8dxMbQbjA5YSSm5=s64",
      "userId": "14461703177943287613"
     },
     "user_tz": 300
    },
    "id": "bhhc6V9kgECz",
    "outputId": "d75d9a22-5e8b-4268-dcea-6becf3cc9170"
   },
   "outputs": [
    {
     "name": "stdout",
     "output_type": "stream",
     "text": [
      "Weight for class 0: 0.52\n",
      "Weight for class 1: 11.57\n"
     ]
    }
   ],
   "source": [
    "# Weight the classes, so the model pays more attention to purchases\n",
    "weight_neg = (1 / neg) * (total / 2.0)\n",
    "weight_pos = (1 / pos) * (total / 2.0)\n",
    "\n",
    "class_weight = {0: weight_neg, 1: weight_pos}\n",
    "\n",
    "print('Weight for class 0: {:.2f}'.format(weight_neg))\n",
    "print('Weight for class 1: {:.2f}'.format(weight_pos))"
   ]
  },
  {
   "cell_type": "code",
   "execution_count": null,
   "metadata": {
    "colab": {
     "base_uri": "https://localhost:8080/"
    },
    "executionInfo": {
     "elapsed": 489294,
     "status": "ok",
     "timestamp": 1635972175882,
     "user": {
      "displayName": "Dan Waters",
      "photoUrl": "https://lh3.googleusercontent.com/a-/AOh14Gg8oyL8Sarv6twUg3wi_p2Qi8dxMbQbjA5YSSm5=s64",
      "userId": "14461703177943287613"
     },
     "user_tz": 300
    },
    "id": "DcviY4ICgSao",
    "outputId": "7ff41829-c16a-4042-8cbe-616bbcbf9b70"
   },
   "outputs": [
    {
     "name": "stdout",
     "output_type": "stream",
     "text": [
      "Epoch 1/100\n",
      "886/886 [==============================] - 13s 12ms/step - loss: 0.7300 - precision: 0.0633 - tp: 38988.0000 - fp: 577235.0000 - tn: 1591398.0000 - fn: 58923.0000 - accuracy: 0.7193 - recall: 0.3982 - auc: 0.5990 - prc: 0.0621 - val_loss: 0.5554 - val_precision: 0.0764 - val_tp: 11312.0000 - val_fp: 136729.0000 - val_tn: 296998.0000 - val_fn: 8270.0000 - val_accuracy: 0.6801 - val_recall: 0.5777 - val_auc: 0.6955 - val_prc: 0.0908\n",
      "Epoch 2/100\n",
      "886/886 [==============================] - 9s 10ms/step - loss: 0.6529 - precision: 0.0663 - tp: 45560.0000 - fp: 641264.0000 - tn: 1093642.0000 - fn: 32769.0000 - accuracy: 0.6283 - recall: 0.5816 - auc: 0.6608 - prc: 0.0748 - val_loss: 0.5527 - val_precision: 0.0774 - val_tp: 11484.0000 - val_fp: 136979.0000 - val_tn: 296748.0000 - val_fn: 8098.0000 - val_accuracy: 0.6800 - val_recall: 0.5865 - val_auc: 0.7001 - val_prc: 0.0941\n",
      "Epoch 3/100\n",
      "886/886 [==============================] - 8s 9ms/step - loss: 0.6347 - precision: 0.0685 - tp: 47869.0000 - fp: 651212.0000 - tn: 1083694.0000 - fn: 30460.0000 - accuracy: 0.6241 - recall: 0.6111 - auc: 0.6737 - prc: 0.0790 - val_loss: 0.5630 - val_precision: 0.0773 - val_tp: 12167.0000 - val_fp: 145186.0000 - val_tn: 288541.0000 - val_fn: 7415.0000 - val_accuracy: 0.6634 - val_recall: 0.6213 - val_auc: 0.7052 - val_prc: 0.0966\n",
      "Epoch 4/100\n",
      "886/886 [==============================] - 9s 10ms/step - loss: 0.6262 - precision: 0.0705 - tp: 49164.0000 - fp: 648343.0000 - tn: 1086563.0000 - fn: 29165.0000 - accuracy: 0.6264 - recall: 0.6277 - auc: 0.6833 - prc: 0.0827 - val_loss: 0.5984 - val_precision: 0.0739 - val_tp: 13521.0000 - val_fp: 169474.0000 - val_tn: 264253.0000 - val_fn: 6061.0000 - val_accuracy: 0.6128 - val_recall: 0.6905 - val_auc: 0.7089 - val_prc: 0.0993\n",
      "Epoch 5/100\n",
      "886/886 [==============================] - 9s 10ms/step - loss: 0.6214 - precision: 0.0716 - tp: 49904.0000 - fp: 647269.0000 - tn: 1087637.0000 - fn: 28425.0000 - accuracy: 0.6274 - recall: 0.6371 - auc: 0.6895 - prc: 0.0855 - val_loss: 0.5862 - val_precision: 0.0761 - val_tp: 13001.0000 - val_fp: 157835.0000 - val_tn: 275892.0000 - val_fn: 6581.0000 - val_accuracy: 0.6373 - val_recall: 0.6639 - val_auc: 0.7112 - val_prc: 0.0993\n",
      "Epoch 6/100\n",
      "886/886 [==============================] - 9s 11ms/step - loss: 0.6180 - precision: 0.0724 - tp: 50427.0000 - fp: 645849.0000 - tn: 1089057.0000 - fn: 27902.0000 - accuracy: 0.6284 - recall: 0.6438 - auc: 0.6945 - prc: 0.0872 - val_loss: 0.6071 - val_precision: 0.0735 - val_tp: 13696.0000 - val_fp: 172647.0000 - val_tn: 261080.0000 - val_fn: 5886.0000 - val_accuracy: 0.6062 - val_recall: 0.6994 - val_auc: 0.7117 - val_prc: 0.1007\n",
      "Epoch 7/100\n",
      "886/886 [==============================] - 8s 9ms/step - loss: 0.6151 - precision: 0.0732 - tp: 51429.0000 - fp: 651145.0000 - tn: 1083761.0000 - fn: 26900.0000 - accuracy: 0.6261 - recall: 0.6566 - auc: 0.6992 - prc: 0.0892 - val_loss: 0.5984 - val_precision: 0.0748 - val_tp: 13402.0000 - val_fp: 165878.0000 - val_tn: 267849.0000 - val_fn: 6180.0000 - val_accuracy: 0.6204 - val_recall: 0.6844 - val_auc: 0.7129 - val_prc: 0.1009\n",
      "Epoch 8/100\n",
      "886/886 [==============================] - 10s 11ms/step - loss: 0.6134 - precision: 0.0734 - tp: 51962.0000 - fp: 656241.0000 - tn: 1078665.0000 - fn: 26367.0000 - accuracy: 0.6235 - recall: 0.6634 - auc: 0.7015 - prc: 0.0901 - val_loss: 0.6192 - val_precision: 0.0723 - val_tp: 14076.0000 - val_fp: 180531.0000 - val_tn: 253196.0000 - val_fn: 5506.0000 - val_accuracy: 0.5896 - val_recall: 0.7188 - val_auc: 0.7135 - val_prc: 0.1004\n",
      "Epoch 9/100\n",
      "886/886 [==============================] - 8s 10ms/step - loss: 0.6118 - precision: 0.0735 - tp: 52366.0000 - fp: 659732.0000 - tn: 1075174.0000 - fn: 25963.0000 - accuracy: 0.6218 - recall: 0.6685 - auc: 0.7038 - prc: 0.0911 - val_loss: 0.6252 - val_precision: 0.0715 - val_tp: 14204.0000 - val_fp: 184554.0000 - val_tn: 249173.0000 - val_fn: 5378.0000 - val_accuracy: 0.5810 - val_recall: 0.7254 - val_auc: 0.7126 - val_prc: 0.1011\n",
      "Epoch 10/100\n",
      "886/886 [==============================] - 9s 10ms/step - loss: 0.6107 - precision: 0.0738 - tp: 53095.0000 - fp: 666501.0000 - tn: 1068405.0000 - fn: 25234.0000 - accuracy: 0.6185 - recall: 0.6778 - auc: 0.7055 - prc: 0.0921 - val_loss: 0.5953 - val_precision: 0.0755 - val_tp: 13289.0000 - val_fp: 162712.0000 - val_tn: 271015.0000 - val_fn: 6293.0000 - val_accuracy: 0.6272 - val_recall: 0.6786 - val_auc: 0.7139 - val_prc: 0.1008\n",
      "Epoch 11/100\n",
      "886/886 [==============================] - 9s 11ms/step - loss: 0.6099 - precision: 0.0737 - tp: 53520.0000 - fp: 673082.0000 - tn: 1061824.0000 - fn: 24809.0000 - accuracy: 0.6151 - recall: 0.6833 - auc: 0.7066 - prc: 0.0930 - val_loss: 0.5959 - val_precision: 0.0750 - val_tp: 13492.0000 - val_fp: 166318.0000 - val_tn: 267409.0000 - val_fn: 6090.0000 - val_accuracy: 0.6197 - val_recall: 0.6890 - val_auc: 0.7144 - val_prc: 0.1008\n",
      "Epoch 12/100\n",
      "886/886 [==============================] - 9s 10ms/step - loss: 0.6093 - precision: 0.0738 - tp: 53573.0000 - fp: 672300.0000 - tn: 1062606.0000 - fn: 24756.0000 - accuracy: 0.6156 - recall: 0.6839 - auc: 0.7077 - prc: 0.0933 - val_loss: 0.6220 - val_precision: 0.0729 - val_tp: 14033.0000 - val_fp: 178406.0000 - val_tn: 255321.0000 - val_fn: 5549.0000 - val_accuracy: 0.5942 - val_recall: 0.7166 - val_auc: 0.7149 - val_prc: 0.1025\n",
      "Epoch 13/100\n",
      "886/886 [==============================] - 9s 10ms/step - loss: 0.6087 - precision: 0.0740 - tp: 53772.0000 - fp: 672978.0000 - tn: 1061928.0000 - fn: 24557.0000 - accuracy: 0.6153 - recall: 0.6865 - auc: 0.7083 - prc: 0.0940 - val_loss: 0.6216 - val_precision: 0.0723 - val_tp: 14114.0000 - val_fp: 181226.0000 - val_tn: 252501.0000 - val_fn: 5468.0000 - val_accuracy: 0.5882 - val_recall: 0.7208 - val_auc: 0.7145 - val_prc: 0.1019\n",
      "Epoch 14/100\n",
      "886/886 [==============================] - 10s 11ms/step - loss: 0.6080 - precision: 0.0739 - tp: 54047.0000 - fp: 677026.0000 - tn: 1057880.0000 - fn: 24282.0000 - accuracy: 0.6132 - recall: 0.6900 - auc: 0.7096 - prc: 0.0951 - val_loss: 0.5988 - val_precision: 0.0748 - val_tp: 13500.0000 - val_fp: 166983.0000 - val_tn: 266744.0000 - val_fn: 6082.0000 - val_accuracy: 0.6182 - val_recall: 0.6894 - val_auc: 0.7154 - val_prc: 0.1017\n",
      "Epoch 15/100\n",
      "886/886 [==============================] - 9s 10ms/step - loss: 0.6077 - precision: 0.0741 - tp: 54311.0000 - fp: 678241.0000 - tn: 1056665.0000 - fn: 24018.0000 - accuracy: 0.6127 - recall: 0.6934 - auc: 0.7104 - prc: 0.0952 - val_loss: 0.5974 - val_precision: 0.0750 - val_tp: 13540.0000 - val_fp: 166900.0000 - val_tn: 266827.0000 - val_fn: 6042.0000 - val_accuracy: 0.6185 - val_recall: 0.6915 - val_auc: 0.7154 - val_prc: 0.1030\n",
      "Epoch 16/100\n",
      "886/886 [==============================] - 9s 10ms/step - loss: 0.6076 - precision: 0.0738 - tp: 54228.0000 - fp: 680140.0000 - tn: 1054766.0000 - fn: 24101.0000 - accuracy: 0.6116 - recall: 0.6923 - auc: 0.7105 - prc: 0.0951 - val_loss: 0.6000 - val_precision: 0.0743 - val_tp: 13748.0000 - val_fp: 171306.0000 - val_tn: 262421.0000 - val_fn: 5834.0000 - val_accuracy: 0.6092 - val_recall: 0.7021 - val_auc: 0.7159 - val_prc: 0.1032\n",
      "Epoch 17/100\n",
      "886/886 [==============================] - 9s 10ms/step - loss: 0.6072 - precision: 0.0738 - tp: 54771.0000 - fp: 687017.0000 - tn: 1047889.0000 - fn: 23558.0000 - accuracy: 0.6081 - recall: 0.6992 - auc: 0.7110 - prc: 0.0953 - val_loss: 0.6217 - val_precision: 0.0725 - val_tp: 14094.0000 - val_fp: 180342.0000 - val_tn: 253385.0000 - val_fn: 5488.0000 - val_accuracy: 0.5901 - val_recall: 0.7197 - val_auc: 0.7154 - val_prc: 0.1031\n",
      "Epoch 18/100\n",
      "886/886 [==============================] - 8s 10ms/step - loss: 0.6070 - precision: 0.0739 - tp: 54634.0000 - fp: 685052.0000 - tn: 1049854.0000 - fn: 23695.0000 - accuracy: 0.6091 - recall: 0.6975 - auc: 0.7113 - prc: 0.0959 - val_loss: 0.6198 - val_precision: 0.0725 - val_tp: 14129.0000 - val_fp: 180664.0000 - val_tn: 253063.0000 - val_fn: 5453.0000 - val_accuracy: 0.5894 - val_recall: 0.7215 - val_auc: 0.7159 - val_prc: 0.1033\n",
      "Epoch 19/100\n",
      "886/886 [==============================] - 9s 10ms/step - loss: 0.6068 - precision: 0.0738 - tp: 54866.0000 - fp: 688602.0000 - tn: 1046304.0000 - fn: 23463.0000 - accuracy: 0.6073 - recall: 0.7005 - auc: 0.7119 - prc: 0.0962 - val_loss: 0.6178 - val_precision: 0.0725 - val_tp: 14123.0000 - val_fp: 180795.0000 - val_tn: 252932.0000 - val_fn: 5459.0000 - val_accuracy: 0.5891 - val_recall: 0.7212 - val_auc: 0.7159 - val_prc: 0.1035\n",
      "Epoch 20/100\n",
      "886/886 [==============================] - 10s 11ms/step - loss: 0.6066 - precision: 0.0737 - tp: 54949.0000 - fp: 690572.0000 - tn: 1044334.0000 - fn: 23380.0000 - accuracy: 0.6063 - recall: 0.7015 - auc: 0.7120 - prc: 0.0964 - val_loss: 0.6082 - val_precision: 0.0732 - val_tp: 13945.0000 - val_fp: 176463.0000 - val_tn: 257264.0000 - val_fn: 5637.0000 - val_accuracy: 0.5983 - val_recall: 0.7121 - val_auc: 0.7159 - val_prc: 0.1038\n",
      "Epoch 21/100\n",
      "886/886 [==============================] - 9s 10ms/step - loss: 0.6063 - precision: 0.0737 - tp: 55074.0000 - fp: 692437.0000 - tn: 1042469.0000 - fn: 23255.0000 - accuracy: 0.6053 - recall: 0.7031 - auc: 0.7123 - prc: 0.0968 - val_loss: 0.6116 - val_precision: 0.0730 - val_tp: 14129.0000 - val_fp: 179321.0000 - val_tn: 254406.0000 - val_fn: 5453.0000 - val_accuracy: 0.5924 - val_recall: 0.7215 - val_auc: 0.7161 - val_prc: 0.1038\n",
      "Epoch 22/100\n",
      "886/886 [==============================] - 10s 11ms/step - loss: 0.6061 - precision: 0.0734 - tp: 55551.0000 - fp: 701561.0000 - tn: 1033345.0000 - fn: 22778.0000 - accuracy: 0.6005 - recall: 0.7092 - auc: 0.7126 - prc: 0.0970 - val_loss: 0.6092 - val_precision: 0.0734 - val_tp: 13925.0000 - val_fp: 175837.0000 - val_tn: 257890.0000 - val_fn: 5657.0000 - val_accuracy: 0.5996 - val_recall: 0.7111 - val_auc: 0.7159 - val_prc: 0.1034\n",
      "Epoch 23/100\n",
      "886/886 [==============================] - 9s 11ms/step - loss: 0.6058 - precision: 0.0737 - tp: 55503.0000 - fp: 697823.0000 - tn: 1037083.0000 - fn: 22826.0000 - accuracy: 0.6026 - recall: 0.7086 - auc: 0.7131 - prc: 0.0973 - val_loss: 0.6109 - val_precision: 0.0729 - val_tp: 14040.0000 - val_fp: 178516.0000 - val_tn: 255211.0000 - val_fn: 5542.0000 - val_accuracy: 0.5940 - val_recall: 0.7170 - val_auc: 0.7160 - val_prc: 0.1034\n",
      "Epoch 24/100\n",
      "886/886 [==============================] - 9s 10ms/step - loss: 0.6053 - precision: 0.0738 - tp: 55695.0000 - fp: 699259.0000 - tn: 1035647.0000 - fn: 22634.0000 - accuracy: 0.6019 - recall: 0.7110 - auc: 0.7139 - prc: 0.0971 - val_loss: 0.5961 - val_precision: 0.0739 - val_tp: 13851.0000 - val_fp: 173702.0000 - val_tn: 260025.0000 - val_fn: 5731.0000 - val_accuracy: 0.6042 - val_recall: 0.7073 - val_auc: 0.7166 - val_prc: 0.1044\n",
      "Epoch 25/100\n",
      "886/886 [==============================] - 9s 10ms/step - loss: 0.6056 - precision: 0.0736 - tp: 55732.0000 - fp: 701735.0000 - tn: 1033171.0000 - fn: 22597.0000 - accuracy: 0.6005 - recall: 0.7115 - auc: 0.7135 - prc: 0.0978 - val_loss: 0.6158 - val_precision: 0.0730 - val_tp: 14134.0000 - val_fp: 179545.0000 - val_tn: 254182.0000 - val_fn: 5448.0000 - val_accuracy: 0.5919 - val_recall: 0.7218 - val_auc: 0.7166 - val_prc: 0.1031\n",
      "Epoch 26/100\n",
      "886/886 [==============================] - 9s 10ms/step - loss: 0.6053 - precision: 0.0734 - tp: 55924.0000 - fp: 705730.0000 - tn: 1029176.0000 - fn: 22405.0000 - accuracy: 0.5984 - recall: 0.7140 - auc: 0.7139 - prc: 0.0978 - val_loss: 0.6006 - val_precision: 0.0739 - val_tp: 13792.0000 - val_fp: 172931.0000 - val_tn: 260796.0000 - val_fn: 5790.0000 - val_accuracy: 0.6057 - val_recall: 0.7043 - val_auc: 0.7165 - val_prc: 0.1037\n",
      "Epoch 27/100\n",
      "886/886 [==============================] - 10s 11ms/step - loss: 0.6048 - precision: 0.0738 - tp: 55901.0000 - fp: 701949.0000 - tn: 1032957.0000 - fn: 22428.0000 - accuracy: 0.6005 - recall: 0.7137 - auc: 0.7146 - prc: 0.0989 - val_loss: 0.6110 - val_precision: 0.0722 - val_tp: 14239.0000 - val_fp: 183076.0000 - val_tn: 250651.0000 - val_fn: 5343.0000 - val_accuracy: 0.5843 - val_recall: 0.7271 - val_auc: 0.7168 - val_prc: 0.1050\n",
      "Epoch 28/100\n",
      "886/886 [==============================] - 10s 12ms/step - loss: 0.6051 - precision: 0.0735 - tp: 56062.0000 - fp: 707062.0000 - tn: 1027844.0000 - fn: 22267.0000 - accuracy: 0.5978 - recall: 0.7157 - auc: 0.7144 - prc: 0.0982 - val_loss: 0.6155 - val_precision: 0.0730 - val_tp: 14072.0000 - val_fp: 178660.0000 - val_tn: 255067.0000 - val_fn: 5510.0000 - val_accuracy: 0.5937 - val_recall: 0.7186 - val_auc: 0.7169 - val_prc: 0.1040\n",
      "Epoch 29/100\n",
      "886/886 [==============================] - 9s 10ms/step - loss: 0.6051 - precision: 0.0734 - tp: 55951.0000 - fp: 706657.0000 - tn: 1028249.0000 - fn: 22378.0000 - accuracy: 0.5979 - recall: 0.7143 - auc: 0.7141 - prc: 0.0981 - val_loss: 0.6034 - val_precision: 0.0733 - val_tp: 14043.0000 - val_fp: 177477.0000 - val_tn: 256250.0000 - val_fn: 5539.0000 - val_accuracy: 0.5963 - val_recall: 0.7171 - val_auc: 0.7170 - val_prc: 0.1043\n",
      "Epoch 30/100\n",
      "886/886 [==============================] - 10s 11ms/step - loss: 0.6048 - precision: 0.0735 - tp: 56059.0000 - fp: 706724.0000 - tn: 1028182.0000 - fn: 22270.0000 - accuracy: 0.5980 - recall: 0.7157 - auc: 0.7145 - prc: 0.0986 - val_loss: 0.6079 - val_precision: 0.0729 - val_tp: 14133.0000 - val_fp: 179721.0000 - val_tn: 254006.0000 - val_fn: 5449.0000 - val_accuracy: 0.5915 - val_recall: 0.7217 - val_auc: 0.7173 - val_prc: 0.1045\n",
      "Epoch 31/100\n",
      "886/886 [==============================] - 10s 11ms/step - loss: 0.6047 - precision: 0.0735 - tp: 56069.0000 - fp: 706732.0000 - tn: 1028174.0000 - fn: 22260.0000 - accuracy: 0.5980 - recall: 0.7158 - auc: 0.7148 - prc: 0.0989 - val_loss: 0.6171 - val_precision: 0.0718 - val_tp: 14397.0000 - val_fp: 186082.0000 - val_tn: 247645.0000 - val_fn: 5185.0000 - val_accuracy: 0.5781 - val_recall: 0.7352 - val_auc: 0.7169 - val_prc: 0.1044\n",
      "Epoch 32/100\n",
      "886/886 [==============================] - 9s 10ms/step - loss: 0.6048 - precision: 0.0734 - tp: 56105.0000 - fp: 707870.0000 - tn: 1027036.0000 - fn: 22224.0000 - accuracy: 0.5974 - recall: 0.7163 - auc: 0.7146 - prc: 0.0990 - val_loss: 0.6135 - val_precision: 0.0730 - val_tp: 14061.0000 - val_fp: 178539.0000 - val_tn: 255188.0000 - val_fn: 5521.0000 - val_accuracy: 0.5940 - val_recall: 0.7181 - val_auc: 0.7176 - val_prc: 0.1053\n",
      "Epoch 33/100\n",
      "886/886 [==============================] - 8s 9ms/step - loss: 0.6043 - precision: 0.0738 - tp: 55879.0000 - fp: 701129.0000 - tn: 1033777.0000 - fn: 22450.0000 - accuracy: 0.6009 - recall: 0.7134 - auc: 0.7153 - prc: 0.0991 - val_loss: 0.6167 - val_precision: 0.0718 - val_tp: 14358.0000 - val_fp: 185706.0000 - val_tn: 248021.0000 - val_fn: 5224.0000 - val_accuracy: 0.5788 - val_recall: 0.7332 - val_auc: 0.7171 - val_prc: 0.1051\n",
      "Epoch 34/100\n",
      "886/886 [==============================] - 8s 9ms/step - loss: 0.6048 - precision: 0.0737 - tp: 55938.0000 - fp: 703440.0000 - tn: 1031466.0000 - fn: 22391.0000 - accuracy: 0.5997 - recall: 0.7141 - auc: 0.7146 - prc: 0.0986 - val_loss: 0.5975 - val_precision: 0.0738 - val_tp: 13907.0000 - val_fp: 174543.0000 - val_tn: 259184.0000 - val_fn: 5675.0000 - val_accuracy: 0.6024 - val_recall: 0.7102 - val_auc: 0.7166 - val_prc: 0.1047\n",
      "Epoch 35/100\n",
      "886/886 [==============================] - 9s 10ms/step - loss: 0.6043 - precision: 0.0737 - tp: 56047.0000 - fp: 704929.0000 - tn: 1029977.0000 - fn: 22282.0000 - accuracy: 0.5989 - recall: 0.7155 - auc: 0.7154 - prc: 0.0990 - val_loss: 0.6058 - val_precision: 0.0732 - val_tp: 14060.0000 - val_fp: 177935.0000 - val_tn: 255792.0000 - val_fn: 5522.0000 - val_accuracy: 0.5953 - val_recall: 0.7180 - val_auc: 0.7166 - val_prc: 0.1042\n",
      "Epoch 36/100\n",
      "886/886 [==============================] - 9s 10ms/step - loss: 0.6047 - precision: 0.0735 - tp: 56073.0000 - fp: 707003.0000 - tn: 1027903.0000 - fn: 22256.0000 - accuracy: 0.5978 - recall: 0.7159 - auc: 0.7151 - prc: 0.0992 - val_loss: 0.6006 - val_precision: 0.0736 - val_tp: 13982.0000 - val_fp: 175940.0000 - val_tn: 257787.0000 - val_fn: 5600.0000 - val_accuracy: 0.5995 - val_recall: 0.7140 - val_auc: 0.7172 - val_prc: 0.1053\n",
      "Epoch 37/100\n",
      "886/886 [==============================] - 9s 10ms/step - loss: 0.6044 - precision: 0.0735 - tp: 56314.0000 - fp: 709555.0000 - tn: 1025351.0000 - fn: 22015.0000 - accuracy: 0.5965 - recall: 0.7189 - auc: 0.7153 - prc: 0.0992 - val_loss: 0.6209 - val_precision: 0.0717 - val_tp: 14356.0000 - val_fp: 185850.0000 - val_tn: 247877.0000 - val_fn: 5226.0000 - val_accuracy: 0.5785 - val_recall: 0.7331 - val_auc: 0.7167 - val_prc: 0.1042\n",
      "Epoch 38/100\n",
      "886/886 [==============================] - 9s 10ms/step - loss: 0.6043 - precision: 0.0735 - tp: 56206.0000 - fp: 708123.0000 - tn: 1026783.0000 - fn: 22123.0000 - accuracy: 0.5973 - recall: 0.7176 - auc: 0.7153 - prc: 0.0992 - val_loss: 0.6101 - val_precision: 0.0727 - val_tp: 14167.0000 - val_fp: 180612.0000 - val_tn: 253115.0000 - val_fn: 5415.0000 - val_accuracy: 0.5896 - val_recall: 0.7235 - val_auc: 0.7175 - val_prc: 0.1053\n",
      "Epoch 39/100\n",
      "886/886 [==============================] - 9s 10ms/step - loss: 0.6044 - precision: 0.0735 - tp: 56154.0000 - fp: 707328.0000 - tn: 1027578.0000 - fn: 22175.0000 - accuracy: 0.5977 - recall: 0.7169 - auc: 0.7154 - prc: 0.0993 - val_loss: 0.6165 - val_precision: 0.0725 - val_tp: 14186.0000 - val_fp: 181595.0000 - val_tn: 252132.0000 - val_fn: 5396.0000 - val_accuracy: 0.5875 - val_recall: 0.7244 - val_auc: 0.7173 - val_prc: 0.1057\n",
      "Epoch 40/100\n",
      "886/886 [==============================] - 9s 10ms/step - loss: 0.6043 - precision: 0.0734 - tp: 56490.0000 - fp: 712903.0000 - tn: 1022003.0000 - fn: 21839.0000 - accuracy: 0.5948 - recall: 0.7212 - auc: 0.7154 - prc: 0.0993 - val_loss: 0.6027 - val_precision: 0.0742 - val_tp: 13837.0000 - val_fp: 172662.0000 - val_tn: 261065.0000 - val_fn: 5745.0000 - val_accuracy: 0.6064 - val_recall: 0.7066 - val_auc: 0.7169 - val_prc: 0.1052\n",
      "Epoch 41/100\n",
      "886/886 [==============================] - 10s 11ms/step - loss: 0.6040 - precision: 0.0737 - tp: 56013.0000 - fp: 704220.0000 - tn: 1030686.0000 - fn: 22316.0000 - accuracy: 0.5993 - recall: 0.7151 - auc: 0.7159 - prc: 0.0992 - val_loss: 0.6171 - val_precision: 0.0721 - val_tp: 14267.0000 - val_fp: 183543.0000 - val_tn: 250184.0000 - val_fn: 5315.0000 - val_accuracy: 0.5834 - val_recall: 0.7286 - val_auc: 0.7173 - val_prc: 0.1044\n",
      "Epoch 42/100\n",
      "886/886 [==============================] - 9s 10ms/step - loss: 0.6043 - precision: 0.0733 - tp: 56158.0000 - fp: 709896.0000 - tn: 1025010.0000 - fn: 22171.0000 - accuracy: 0.5963 - recall: 0.7170 - auc: 0.7155 - prc: 0.0992 - val_loss: 0.6064 - val_precision: 0.0729 - val_tp: 14077.0000 - val_fp: 179129.0000 - val_tn: 254598.0000 - val_fn: 5505.0000 - val_accuracy: 0.5927 - val_recall: 0.7189 - val_auc: 0.7175 - val_prc: 0.1060\n",
      "Epoch 43/100\n",
      "886/886 [==============================] - 9s 10ms/step - loss: 0.6042 - precision: 0.0738 - tp: 56169.0000 - fp: 705421.0000 - tn: 1029485.0000 - fn: 22160.0000 - accuracy: 0.5987 - recall: 0.7171 - auc: 0.7157 - prc: 0.0989 - val_loss: 0.5989 - val_precision: 0.0726 - val_tp: 14168.0000 - val_fp: 181036.0000 - val_tn: 252691.0000 - val_fn: 5414.0000 - val_accuracy: 0.5887 - val_recall: 0.7235 - val_auc: 0.7177 - val_prc: 0.1063\n",
      "Epoch 44/100\n",
      "886/886 [==============================] - 10s 11ms/step - loss: 0.6036 - precision: 0.0736 - tp: 56422.0000 - fp: 710049.0000 - tn: 1024857.0000 - fn: 21907.0000 - accuracy: 0.5963 - recall: 0.7203 - auc: 0.7162 - prc: 0.0996 - val_loss: 0.6048 - val_precision: 0.0734 - val_tp: 13993.0000 - val_fp: 176613.0000 - val_tn: 257114.0000 - val_fn: 5589.0000 - val_accuracy: 0.5981 - val_recall: 0.7146 - val_auc: 0.7174 - val_prc: 0.1058\n",
      "Epoch 45/100\n",
      "886/886 [==============================] - 10s 11ms/step - loss: 0.6040 - precision: 0.0736 - tp: 56433.0000 - fp: 710350.0000 - tn: 1024556.0000 - fn: 21896.0000 - accuracy: 0.5962 - recall: 0.7205 - auc: 0.7159 - prc: 0.0996 - val_loss: 0.6157 - val_precision: 0.0717 - val_tp: 14335.0000 - val_fp: 185714.0000 - val_tn: 248013.0000 - val_fn: 5247.0000 - val_accuracy: 0.5787 - val_recall: 0.7320 - val_auc: 0.7171 - val_prc: 0.1053\n",
      "Epoch 46/100\n",
      "886/886 [==============================] - 9s 10ms/step - loss: 0.6042 - precision: 0.0733 - tp: 56550.0000 - fp: 714526.0000 - tn: 1020380.0000 - fn: 21779.0000 - accuracy: 0.5939 - recall: 0.7220 - auc: 0.7155 - prc: 0.0995 - val_loss: 0.6059 - val_precision: 0.0730 - val_tp: 14094.0000 - val_fp: 178892.0000 - val_tn: 254835.0000 - val_fn: 5488.0000 - val_accuracy: 0.5933 - val_recall: 0.7197 - val_auc: 0.7176 - val_prc: 0.1052\n",
      "Epoch 47/100\n",
      "886/886 [==============================] - 9s 10ms/step - loss: 0.6040 - precision: 0.0734 - tp: 56402.0000 - fp: 712129.0000 - tn: 1022777.0000 - fn: 21927.0000 - accuracy: 0.5952 - recall: 0.7201 - auc: 0.7157 - prc: 0.0994 - val_loss: 0.6181 - val_precision: 0.0718 - val_tp: 14314.0000 - val_fp: 185093.0000 - val_tn: 248634.0000 - val_fn: 5268.0000 - val_accuracy: 0.5801 - val_recall: 0.7310 - val_auc: 0.7173 - val_prc: 0.1056\n",
      "Epoch 48/100\n",
      "886/886 [==============================] - 9s 10ms/step - loss: 0.6039 - precision: 0.0734 - tp: 56374.0000 - fp: 711242.0000 - tn: 1023664.0000 - fn: 21955.0000 - accuracy: 0.5956 - recall: 0.7197 - auc: 0.7159 - prc: 0.0994 - val_loss: 0.6085 - val_precision: 0.0731 - val_tp: 14022.0000 - val_fp: 177860.0000 - val_tn: 255867.0000 - val_fn: 5560.0000 - val_accuracy: 0.5954 - val_recall: 0.7161 - val_auc: 0.7173 - val_prc: 0.1049\n",
      "Epoch 49/100\n",
      "886/886 [==============================] - 9s 10ms/step - loss: 0.6037 - precision: 0.0736 - tp: 56261.0000 - fp: 707908.0000 - tn: 1026998.0000 - fn: 22068.0000 - accuracy: 0.5974 - recall: 0.7183 - auc: 0.7164 - prc: 0.1000 - val_loss: 0.6078 - val_precision: 0.0727 - val_tp: 14038.0000 - val_fp: 179097.0000 - val_tn: 254630.0000 - val_fn: 5544.0000 - val_accuracy: 0.5927 - val_recall: 0.7169 - val_auc: 0.7173 - val_prc: 0.1050\n",
      "Epoch 50/100\n",
      "886/886 [==============================] - 9s 10ms/step - loss: 0.6037 - precision: 0.0737 - tp: 56335.0000 - fp: 708111.0000 - tn: 1026795.0000 - fn: 21994.0000 - accuracy: 0.5973 - recall: 0.7192 - auc: 0.7163 - prc: 0.0998 - val_loss: 0.6022 - val_precision: 0.0734 - val_tp: 13977.0000 - val_fp: 176363.0000 - val_tn: 257364.0000 - val_fn: 5605.0000 - val_accuracy: 0.5986 - val_recall: 0.7138 - val_auc: 0.7176 - val_prc: 0.1056\n",
      "Epoch 51/100\n",
      "886/886 [==============================] - 8s 9ms/step - loss: 0.6035 - precision: 0.0735 - tp: 56347.0000 - fp: 710194.0000 - tn: 1024712.0000 - fn: 21982.0000 - accuracy: 0.5962 - recall: 0.7194 - auc: 0.7166 - prc: 0.0994 - val_loss: 0.6143 - val_precision: 0.0723 - val_tp: 14211.0000 - val_fp: 182276.0000 - val_tn: 251451.0000 - val_fn: 5371.0000 - val_accuracy: 0.5861 - val_recall: 0.7257 - val_auc: 0.7175 - val_prc: 0.1058\n",
      "Epoch 52/100\n",
      "886/886 [==============================] - 8s 9ms/step - loss: 0.6034 - precision: 0.0734 - tp: 56425.0000 - fp: 712806.0000 - tn: 1022100.0000 - fn: 21904.0000 - accuracy: 0.5948 - recall: 0.7204 - auc: 0.7165 - prc: 0.0994 - val_loss: 0.6124 - val_precision: 0.0719 - val_tp: 14300.0000 - val_fp: 184612.0000 - val_tn: 249115.0000 - val_fn: 5282.0000 - val_accuracy: 0.5811 - val_recall: 0.7303 - val_auc: 0.7175 - val_prc: 0.1057\n",
      "Epoch 53/100\n",
      "886/886 [==============================] - 9s 10ms/step - loss: 0.6035 - precision: 0.0730 - tp: 56815.0000 - fp: 721135.0000 - tn: 1013771.0000 - fn: 21514.0000 - accuracy: 0.5904 - recall: 0.7253 - auc: 0.7164 - prc: 0.0998 - val_loss: 0.6034 - val_precision: 0.0729 - val_tp: 14087.0000 - val_fp: 179259.0000 - val_tn: 254468.0000 - val_fn: 5495.0000 - val_accuracy: 0.5924 - val_recall: 0.7194 - val_auc: 0.7176 - val_prc: 0.1040\n",
      "Restoring model weights from the end of the best epoch.\n",
      "Epoch 00053: early stopping\n"
     ]
    }
   ],
   "source": [
    "# Train the final model with early stopping, class weights, initial bias weights\n",
    "\n",
    "weighted_model = make_model()\n",
    "weighted_model.load_weights('initial_weights')\n",
    "\n",
    "weighted_history = weighted_model.fit(\n",
    "    train_features,\n",
    "    train_labels,\n",
    "    batch_size=BATCH_SIZE,\n",
    "    epochs=EPOCHS,\n",
    "    callbacks=[early_stopping],\n",
    "    validation_data=(val_features, val_labels),\n",
    "    # The class weights go here\n",
    "    class_weight=class_weight)"
   ]
  },
  {
   "cell_type": "markdown",
   "metadata": {
    "id": "yIcKBlTGhYTd"
   },
   "source": [
    "#### Mapping coupon predictions to users and packaging the submission"
   ]
  },
  {
   "cell_type": "code",
   "execution_count": null,
   "metadata": {
    "id": "Iz_PYMIHDeot"
   },
   "outputs": [],
   "source": [
    "# generate a row containing user metadata with a test coupon\n",
    "def get_test_row(user, coupon):\n",
    "  age_group         = user.AGE_GROUP\n",
    "  sex               = user.SEX\n",
    "  user_prefecture   = user.PREF_NAME_EN\n",
    "  coupon_prefecture = coupon.KEN_NAME_EN\n",
    "  genre             = coupon.GENRE_NAME_EN\n",
    "  capsule           = coupon.CAPSULE_TEXT_EN\n",
    "  discount_rate     = coupon.PRICE_RATE\n",
    "  discount_price    = coupon.DISCOUNT_PRICE\n",
    "\n",
    "  row = [age_group, sex, user_prefecture, coupon_prefecture, genre, capsule,\n",
    "         discount_rate, discount_price]\n",
    "\n",
    "  return row"
   ]
  },
  {
   "cell_type": "code",
   "execution_count": null,
   "metadata": {
    "colab": {
     "base_uri": "https://localhost:8080/"
    },
    "executionInfo": {
     "elapsed": 3383326,
     "status": "ok",
     "timestamp": 1635975705058,
     "user": {
      "displayName": "Dan Waters",
      "photoUrl": "https://lh3.googleusercontent.com/a-/AOh14Gg8oyL8Sarv6twUg3wi_p2Qi8dxMbQbjA5YSSm5=s64",
      "userId": "14461703177943287613"
     },
     "user_tz": 300
    },
    "id": "NR90W8qs8Dkw",
    "outputId": "1a75a7ba-6bda-491e-f6c0-05fff11493cb"
   },
   "outputs": [
    {
     "name": "stderr",
     "output_type": "stream",
     "text": [
      "\r",
      "  0%|          | 0/22873 [00:00<?, ?it/s]"
     ]
    },
    {
     "name": "stdout",
     "output_type": "stream",
     "text": [
      "WARNING:tensorflow:5 out of the last 5 calls to <function Model.make_predict_function.<locals>.predict_function at 0x7f333ea67c20> triggered tf.function retracing. Tracing is expensive and the excessive number of tracings could be due to (1) creating @tf.function repeatedly in a loop, (2) passing tensors with different shapes, (3) passing Python objects instead of tensors. For (1), please define your @tf.function outside of the loop. For (2), @tf.function has experimental_relax_shapes=True option that relaxes argument shapes that can avoid unnecessary retracing. For (3), please refer to https://www.tensorflow.org/guide/function#controlling_retracing and https://www.tensorflow.org/api_docs/python/tf/function for  more details.\n"
     ]
    },
    {
     "name": "stderr",
     "output_type": "stream",
     "text": [
      "100%|██████████| 22873/22873 [56:23<00:00,  6.76it/s]\n"
     ]
    }
   ],
   "source": [
    "# Use the model to predict 10 coupons for every single user\n",
    "from tqdm import tqdm # this will take a while\n",
    "\n",
    "df_join_users = df_users.fillna(0)\n",
    "\n",
    "results = []\n",
    "for i, u in tqdm(df_join_users.iterrows(), total=df_join_users.shape[0]):\n",
    "  coupon_rows = []\n",
    "  coupon_ids = []\n",
    "  for j, c in df_c_list_test.iterrows():\n",
    "    coupon_rows.append(get_test_row(u, c))\n",
    "    coupon_ids.append(c.COUPON_ID_hash)\n",
    "  \n",
    "  df_user_recommended = pd.DataFrame(coupon_rows)\n",
    "  df_user_recommended.columns = ['age_group', 'sex', 'user_prefecture', 'coupon_prefecture', 'genre', 'capsule', 'discount_rate', 'discount_price']\n",
    "  df_user_recommended.fillna(0)\n",
    "\n",
    "  # one-hot encode the categorical test data columns\n",
    "  coupon_rows = pd.get_dummies(df_user_recommended, columns=['age_group', 'sex', 'user_prefecture', 'coupon_prefecture', 'genre', 'capsule'])\n",
    "  coupon_rows = coupon_rows.reindex(columns=df_training.columns, fill_value=0)\n",
    "  coupon_rows = np.array(coupon_rows)\n",
    "  coupon_rows = scaler.fit_transform(coupon_rows)\n",
    "\n",
    "  # predict\n",
    "  preds = model.predict(coupon_rows)\n",
    "  preds = preds.flatten()\n",
    "\n",
    "  df_predictions = pd.DataFrame(zip(coupon_ids, preds), columns=['coupon', 'likelihood'])\n",
    "  df_predictions = df_predictions.sort_values(by='likelihood', ascending=False)\n",
    "  df_predictions = df_predictions.head(10)\n",
    "  ten_coupon_string = ' '.join(df_predictions['coupon']).strip()\n",
    "  results.append({'USER_ID_hash': u.USER_ID_hash, 'PURCHASED_COUPONS': ten_coupon_string})\n",
    "\n",
    "df_submission = pd.DataFrame(results)"
   ]
  },
  {
   "cell_type": "code",
   "execution_count": null,
   "metadata": {
    "colab": {
     "base_uri": "https://localhost:8080/"
    },
    "executionInfo": {
     "elapsed": 379,
     "status": "ok",
     "timestamp": 1635975746294,
     "user": {
      "displayName": "Dan Waters",
      "photoUrl": "https://lh3.googleusercontent.com/a-/AOh14Gg8oyL8Sarv6twUg3wi_p2Qi8dxMbQbjA5YSSm5=s64",
      "userId": "14461703177943287613"
     },
     "user_tz": 300
    },
    "id": "vPFLlUWBKESp",
    "outputId": "992fa22d-ef9b-4f50-f562-4902baf6be57"
   },
   "outputs": [
    {
     "name": "stdout",
     "output_type": "stream",
     "text": [
      "<class 'pandas.core.frame.DataFrame'>\n",
      "RangeIndex: 22873 entries, 0 to 22872\n",
      "Data columns (total 2 columns):\n",
      " #   Column             Non-Null Count  Dtype \n",
      "---  ------             --------------  ----- \n",
      " 0   USER_ID_hash       22873 non-null  object\n",
      " 1   PURCHASED_COUPONS  22873 non-null  object\n",
      "dtypes: object(2)\n",
      "memory usage: 357.5+ KB\n"
     ]
    }
   ],
   "source": [
    "df_submission.info()\n",
    "df_submission.to_csv('submission.csv', header=True, index=False)"
   ]
  },
  {
   "cell_type": "code",
   "execution_count": null,
   "metadata": {
    "colab": {
     "base_uri": "https://localhost:8080/"
    },
    "executionInfo": {
     "elapsed": 1815,
     "status": "ok",
     "timestamp": 1635975761491,
     "user": {
      "displayName": "Dan Waters",
      "photoUrl": "https://lh3.googleusercontent.com/a-/AOh14Gg8oyL8Sarv6twUg3wi_p2Qi8dxMbQbjA5YSSm5=s64",
      "userId": "14461703177943287613"
     },
     "user_tz": 300
    },
    "id": "NgmQYaasIDvr",
    "outputId": "36156c72-e995-4ed8-9123-43150e4c1a6e"
   },
   "outputs": [
    {
     "name": "stdout",
     "output_type": "stream",
     "text": [
      "INFO:tensorflow:Assets written to: bruteforce_weighted_log_reg_model.pb/assets\n"
     ]
    }
   ],
   "source": [
    "model.save('bruteforce_weighted_log_reg_model.pb')"
   ]
  },
  {
   "cell_type": "code",
   "execution_count": null,
   "metadata": {
    "colab": {
     "base_uri": "https://localhost:8080/"
    },
    "executionInfo": {
     "elapsed": 362,
     "status": "ok",
     "timestamp": 1635975935465,
     "user": {
      "displayName": "Dan Waters",
      "photoUrl": "https://lh3.googleusercontent.com/a-/AOh14Gg8oyL8Sarv6twUg3wi_p2Qi8dxMbQbjA5YSSm5=s64",
      "userId": "14461703177943287613"
     },
     "user_tz": 300
    },
    "id": "5Xhyh8n1IxFq",
    "outputId": "2b1f97db-a22e-4f4d-8fca-47fd1faec7e3"
   },
   "outputs": [
    {
     "name": "stdout",
     "output_type": "stream",
     "text": [
      "  adding: bruteforce_weighted_log_reg_model.pb/ (stored 0%)\n"
     ]
    }
   ],
   "source": [
    "!zip bruteforce_weighted_log_reg_model.zip bruteforce_weighted_log_reg_model.pb/"
   ]
  },
  {
   "cell_type": "code",
   "execution_count": null,
   "metadata": {
    "id": "-Q0TP4ftJCiC"
   },
   "outputs": [],
   "source": []
  }
 ],
 "metadata": {
  "accelerator": "TPU",
  "colab": {
   "collapsed_sections": [],
   "name": "[Make a copy] BruteForce - Logistic Regression and Hybrid Collaborative Filtering.ipynb",
   "provenance": [
    {
     "file_id": "1Ke5cAhAkQpvcFcowHU4QyagdFHdPGnN0",
     "timestamp": 1636054491379
    },
    {
     "file_id": "1C82LbmNrgwGg2oc41-7OunV2oPTg3mz0",
     "timestamp": 1635968807237
    },
    {
     "file_id": "1UXcJb0VehDPvY01-l9skBA64LLUIjWE2",
     "timestamp": 1635809783990
    }
   ]
  },
  "kernelspec": {
   "display_name": "Python 3",
   "language": "python",
   "name": "python3"
  },
  "language_info": {
   "codemirror_mode": {
    "name": "ipython",
    "version": 3
   },
   "file_extension": ".py",
   "mimetype": "text/x-python",
   "name": "python",
   "nbconvert_exporter": "python",
   "pygments_lexer": "ipython3",
   "version": "3.7.7"
  }
 },
 "nbformat": 4,
 "nbformat_minor": 1
}
